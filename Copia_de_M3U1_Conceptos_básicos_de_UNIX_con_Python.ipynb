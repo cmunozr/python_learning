{
  "nbformat": 4,
  "nbformat_minor": 0,
  "metadata": {
    "colab": {
      "name": "Copia de M3U1 - Conceptos básicos de UNIX con Python.ipynb",
      "provenance": [],
      "collapsed_sections": [],
      "include_colab_link": true
    },
    "kernelspec": {
      "display_name": "Python 3",
      "name": "python3"
    },
    "language_info": {
      "name": "python"
    }
  },
  "cells": [
    {
      "cell_type": "markdown",
      "metadata": {
        "id": "view-in-github",
        "colab_type": "text"
      },
      "source": [
        "<a href=\"https://colab.research.google.com/github/cmunozr/python_learning/blob/main/Copia_de_M3U1_Conceptos_b%C3%A1sicos_de_UNIX_con_Python.ipynb\" target=\"_parent\"><img src=\"https://colab.research.google.com/assets/colab-badge.svg\" alt=\"Open In Colab\"/></a>"
      ]
    },
    {
      "cell_type": "markdown",
      "metadata": {
        "id": "fb9pUStUq6xf"
      },
      "source": [
        "<img src = \"https://drive.google.com/uc?export=view&id=1RQ9YosT6N8bIrbPkehL8hGGY9P1GfHuC\" alt = \"Encabezado MLDS\" width = \"100%\">  </img>"
      ]
    },
    {
      "cell_type": "markdown",
      "metadata": {
        "id": "VU71EJL79ZbB"
      },
      "source": [
        "# **Comandos UNIX con _Python_**\n",
        "---\n",
        "En este notebook se dará una breve introducción práctica al conjunto de comandos básico de los sistemas operativos basados en UNIX con _Python_, con el objetivo de repasar los conjuntos de instrucciones utilizados en los recursos de trabajados en este módulo con la línea de comandos."
      ]
    },
    {
      "cell_type": "markdown",
      "metadata": {
        "id": "bnpTEfMveZdq"
      },
      "source": [
        "> **Guía de referencia - Conceptos e interacciones con sistemas basados en UNIX.**\n",
        "***\n",
        "<img src = \"https://drive.google.com/uc?export=view&id=1PZPtXmOlYwytZPjeQ_UVEPqNCC4S6trV\" alt = \"Guía de referencia UNIX\" width = \"100%\">  </img>\n",
        "\n",
        "\n",
        "\n",
        "\n"
      ]
    },
    {
      "cell_type": "markdown",
      "metadata": {
        "id": "wKViEb5DdRmL"
      },
      "source": [
        "> **Nota:** tenga en cuenta que algunos comandos como **`vi`** o **`nano`** solo pueden ser utilizados desde una terminal de línea de comandos. En este material se explorará brevemente algunas de las tareas más comunes que pueden realizarse desde un _notebook_ y con el lenguaje _Python_."
      ]
    },
    {
      "cell_type": "markdown",
      "metadata": {
        "id": "hlWTqGzYRXeF"
      },
      "source": [
        "## **1. Sistemas operativos tipo _UNIX_**\n",
        "---\n",
        "\n",
        "Los sistemas operativos tipo [_UNIX_](https://en.wikipedia.org/wiki/Unix-like) son aquellos basados o construidos sobre la familia de sistemas del mismo nombre. Entre ellos se destacan dos familias:\n",
        "\n",
        "* [**Linux**](https://en.wikipedia.org/wiki/Linux): es una familia de sistemas operativos basados en _UNIX_ de código abierto, predominante en computación científica e infraestructura computacional. Esta familia cuenta con una serie de distribuciones construidas sobre el _kernel_ de _Linux_, entre las que se encuentran sistemas operativos como [_Debian_](https://en.wikipedia.org/wiki/Debian), [_Ubuntu_](https://en.wikipedia.org/wiki/Ubuntu), [_Red Hat_](https://en.wikipedia.org/wiki/Red_Hat_Linux), [_Fedora_](https://en.wikipedia.org/wiki/Fedora_(operating_system)), entre [muchas otras distribuciones](https://en.wikipedia.org/wiki/List_of_Linux_distributions).\n",
        "\n",
        "\n",
        "* [**macOs**](https://en.wikipedia.org/wiki/MacOS): es un sistema operativo propietario creado por la compañía [Apple Inc.](https://en.wikipedia.org/wiki/Apple_Inc.) para sus computadoras personales. A diferencia de _Microsoft Windows, su mayor competidor en el mercado de uso doméstico, el sistema operativo _macOS_ está basado en _UNIX_ y por lo tanto se pueden realizar operaciones con la terminal de comandos.\n",
        "\n",
        "En este material se verán algunos comandos básicos sobre el sistema de _Google Colaboratory_, que se encuentra construido sobre la distribución de _Linux_: **_Ubuntu_**."
      ]
    },
    {
      "cell_type": "markdown",
      "metadata": {
        "id": "KPIkjthdQND6"
      },
      "source": [
        "## **2. Comandos UNIX**\n",
        "---\n",
        "> Este material se realizó en _Google Colaboratory_ con la versión **`3.7.10`**. \n",
        "\n",
        "Para verificar esto, y tal como se ha realizado en actividades de los módulos anteriores, se utliza la siguiente instrucción:"
      ]
    },
    {
      "cell_type": "code",
      "metadata": {
        "colab": {
          "base_uri": "https://localhost:8080/"
        },
        "id": "-Dd32XmKam2s",
        "outputId": "5d331cac-280b-4fee-a9a1-f8b8f27d7ebc"
      },
      "source": [
        "# Versión de Python.\n",
        "!python --version"
      ],
      "execution_count": null,
      "outputs": [
        {
          "output_type": "stream",
          "name": "stdout",
          "text": [
            "Python 3.7.12\n"
          ]
        }
      ]
    },
    {
      "cell_type": "markdown",
      "metadata": {
        "id": "lv5mx3-Ra3ML"
      },
      "source": [
        "Como puede notar, esta instrucción utiliza la sintaxis especial del símbolo de exclamación **`!`** al inicio. Este tipo de sentencia es un comando [**_magic_ de _IPython_**](https://ipython.readthedocs.io/en/stable/interactive/magics.html), que permite ejecutar instrucciones de la línea de comandos del sistema desde un _notebook_ de _IPython_. \n",
        "\n",
        "En este caso el comando usado es **`python`**, el cual es el punto de entrada del lenguaje de programación _Python_, usado para su configuración y para la ejecución de scripts en dicho lenguaje. Seguido de esta palabra, se indica la _flag_ **`--version`**, que permite indicar el comportamiento de la ejecución del comando y retornar la versión instalada del paquete.\n",
        "\n",
        "Estas _flag_ y otros tipos de opciones y argumentos de los comandos dependen de la especificación de cada comando. Esta está documentada en el manual del sistema, disponible con el comando **`man <command>`**.\n",
        "\n",
        "Al ejecutar este comando, obtenemos información acerca del comando usado como argumento. Note que los parámetros de los comandos no están acompañados por guiones simples (**`-`**) ni dobles (**`--`**).\n",
        "\n",
        "Veamos la página del manual del comando **`python`**:"
      ]
    },
    {
      "cell_type": "code",
      "metadata": {
        "colab": {
          "base_uri": "https://localhost:8080/"
        },
        "id": "xj-ExJLvny9C",
        "outputId": "1d22dbc7-0065-4c46-86a8-803bdb03cb2f"
      },
      "source": [
        "# Manual del comando 'python'.\n",
        "!man python"
      ],
      "execution_count": null,
      "outputs": [
        {
          "output_type": "stream",
          "name": "stdout",
          "text": [
            "PYTHON(1)                   General Commands Manual                  PYTHON(1)\n",
            "\n",
            "N\bNA\bAM\bME\bE\n",
            "       python  - an interpreted, interactive, object-oriented programming lan‐\n",
            "       guage\n",
            "\n",
            "S\bSY\bYN\bNO\bOP\bPS\bSI\bIS\bS\n",
            "       p\bpy\byt\bth\bho\bon\bn [ -\b-B\bB ] [ -\b-d\bd ] [ -\b-E\bE ] [ -\b-h\bh ] [ -\b-i\bi ] [ -\b-m\bm _\bm_\bo_\bd_\bu_\bl_\be_\b-_\bn_\ba_\bm_\be ]\n",
            "              [ -\b-O\bO ] [ -\b-O\bOO\bO ] [ -\b-R\bR ] [ -\b-Q\bQ _\ba_\br_\bg_\bu_\bm_\be_\bn_\bt ] [ -\b-s\bs ] [ -\b-S\bS ] [ -\b-t\bt ] [  -\b-u\bu\n",
            "       ]\n",
            "              [ -\b-v\bv ] [ -\b-V\bV ] [ -\b-W\bW _\ba_\br_\bg_\bu_\bm_\be_\bn_\bt ] [ -\b-x\bx ] [ -\b-3\b3 ] [ -\b-?\b?  ]\n",
            "              [ -\b-c\bc _\bc_\bo_\bm_\bm_\ba_\bn_\bd | _\bs_\bc_\br_\bi_\bp_\bt | - ] [ _\ba_\br_\bg_\bu_\bm_\be_\bn_\bt_\bs ]\n",
            "\n",
            "D\bDE\bES\bSC\bCR\bRI\bIP\bPT\bTI\bIO\bON\bN\n",
            "       Python is an interpreted, interactive, object-oriented programming lan‐\n",
            "       guage that combines remarkable power with very clear  syntax.   For  an\n",
            "       introduction  to  programming  in Python, see the Python Tutorial.  The\n",
            "       Python Library Reference documents built-in and  standard  types,  con‐\n",
            "       stants,  functions  and  modules.  Finally, the Python Reference Manual\n",
            "       describes the syntax and semantics of the  core  language  in  (perhaps\n",
            "       too)  much  detail.   (These  documents may be located via the I\bIN\bNT\bTE\bER\bRN\bNE\bET\bT\n",
            "       R\bRE\bES\bSO\bOU\bUR\bRC\bCE\bES\bS below; they may be installed on your system as well.)\n",
            "\n",
            "       Python's basic power can be extended with your own modules written in C\n",
            "       or  C++.   On  most  systems  such  modules  may be dynamically loaded.\n",
            "       Python is also adaptable as an extension language for existing applica‐\n",
            "       tions.  See the internal documentation for hints.\n",
            "\n",
            "       Documentation  for  installed Python modules and packages can be viewed\n",
            "       by running the p\bpy\byd\bdo\boc\bc program.\n",
            "\n",
            "C\bCO\bOM\bMM\bMA\bAN\bND\bD L\bLI\bIN\bNE\bE O\bOP\bPT\bTI\bIO\bON\bNS\bS\n",
            "       -\b-B\bB     Don't write _\b._\bp_\by_\b[_\bc_\bo_\b] files on import. See  also  PYTHONDONTWRITE‐\n",
            "              BYTECODE.\n",
            "\n",
            "       -\b-c\bc _\bc_\bo_\bm_\bm_\ba_\bn_\bd\n",
            "              Specify  the command to execute (see next section).  This termi‐\n",
            "              nates the option list (following options are passed as arguments\n",
            "              to the command).\n",
            "\n",
            "       -\b-d\bd     Turn  on parser debugging output (for wizards only, depending on\n",
            "              compilation options).\n",
            "\n",
            "       -\b-E\bE     Ignore environment variables like PYTHONPATH and PYTHONHOME that\n",
            "              modify the behavior of the interpreter.\n",
            "\n",
            "       -\b-h\bh ,\b,  -\b-?\b? ,\b,  -\b--\b-h\bhe\bel\blp\bp\n",
            "              Prints the usage for the interpreter executable and exits.\n",
            "\n",
            "       -\b-i\bi     When  a  script  is passed as first argument or the -\b-c\bc option is\n",
            "              used, enter interactive mode after executing the script  or  the\n",
            "              command.  It does not read the $PYTHONSTARTUP file.  This can be\n",
            "              useful to inspect global variables  or  a  stack  trace  when  a\n",
            "              script raises an exception.\n",
            "\n",
            "       -\b-m\bm _\bm_\bo_\bd_\bu_\bl_\be_\b-_\bn_\ba_\bm_\be\n",
            "              Searches  _\bs_\by_\bs_\b._\bp_\ba_\bt_\bh for the named module and runs the correspond‐\n",
            "              ing _\b._\bp_\by file as a script.\n",
            "\n",
            "       -\b-O\bO     Turn on basic optimizations.  This changes the  filename  exten‐\n",
            "              sion  for  compiled  (bytecode)  files from _\b._\bp_\by_\bc to _\b._\bp_\by_\bo.  Given\n",
            "              twice, causes docstrings to be discarded.\n",
            "\n",
            "       -\b-O\bOO\bO    Discard docstrings in addition to the -\b-O\bO optimizations.\n",
            "\n",
            "       -\b-R\bR     Turn on \"hash randomization\", so that the hash() values of  str,\n",
            "              bytes  and  datetime  objects are \"salted\" with an unpredictable\n",
            "              pseudo-random value.  Although they remain  constant  within  an\n",
            "              individual  Python  process,  they  are  not predictable between\n",
            "              repeated invocations of Python.\n",
            "\n",
            "              This is intended to provide protection against a denial of  ser‐\n",
            "              vice  caused  by  carefully-chosen inputs that exploit the worst\n",
            "              case performance of a dict construction, O(n^2) complexity.  See\n",
            "              http://www.ocert.org/advisories/ocert-2011-003.html for details.\n",
            "\n",
            "       -\b-Q\bQ _\ba_\br_\bg_\bu_\bm_\be_\bn_\bt\n",
            "              Division  control;  see  PEP  238.   The argument must be one of\n",
            "              \"old\" (the default, int/int  and  long/long  return  an  int  or\n",
            "              long), \"new\" (new division semantics, i.e. int/int and long/long\n",
            "              returns a float), \"warn\" (old division semantics with a  warning\n",
            "              for int/int and long/long), or \"warnall\" (old division semantics\n",
            "              with a warning for all use of the division operator).  For a use\n",
            "              of \"warnall\", see the Tools/scripts/fixdiv.py script.\n",
            "\n",
            "       -\b-s\bs     Don't add user site directory to sys.path.\n",
            "\n",
            "       -\b-S\bS     Disable  the  import  of  the module _\bs_\bi_\bt_\be and the site-dependent\n",
            "              manipulations of _\bs_\by_\bs_\b._\bp_\ba_\bt_\bh that it entails.\n",
            "\n",
            "       -\b-t\bt     Issue a warning when a source file mixes  tabs  and  spaces  for\n",
            "              indentation  in a way that makes it depend on the worth of a tab\n",
            "              expressed in spaces.  Issue an error when the  option  is  given\n",
            "              twice.\n",
            "\n",
            "       -\b-u\bu     Force  stdin,  stdout  and  stderr to be totally unbuffered.  On\n",
            "              systems where it matters, also put stdin, stdout and  stderr  in\n",
            "              binary  mode.   Note  that there is internal buffering in xread‐\n",
            "              lines(), readlines() and file-object  iterators  (\"for  line  in\n",
            "              sys.stdin\")  which  is  not  influenced by this option.  To work\n",
            "              around this, you will want to use \"sys.stdin.readline()\"  inside\n",
            "              a \"while 1:\" loop.\n",
            "\n",
            "       -\b-v\bv     Print  a  message each time a module is initialized, showing the\n",
            "              place (filename or built-in module) from  which  it  is  loaded.\n",
            "              When  given twice, print a message for each file that is checked\n",
            "              for when searching for a module.  Also provides  information  on\n",
            "              module cleanup at exit.\n",
            "\n",
            "       -\b-V\bV ,\b,  -\b--\b-v\bve\ber\brs\bsi\bio\bon\bn\n",
            "              Prints the Python version number of the executable and exits.\n",
            "\n",
            "       -\b-W\bW _\ba_\br_\bg_\bu_\bm_\be_\bn_\bt\n",
            "              Warning  control.   Python  sometimes  prints warning message to\n",
            "              _\bs_\by_\bs_\b._\bs_\bt_\bd_\be_\br_\br.  A typical warning message has the  following  form:\n",
            "              _\bf_\bi_\bl_\be:\b:_\bl_\bi_\bn_\be:\b:  _\bc_\ba_\bt_\be_\bg_\bo_\br_\by:\b:  _\bm_\be_\bs_\bs_\ba_\bg_\be_\b.   By  default,  each  warning is\n",
            "              printed once for each source line where it occurs.  This  option\n",
            "              controls  how  often  warnings are printed.  Multiple -\b-W\bW options\n",
            "              may be given; when a warning matches more than one  option,  the\n",
            "              action  for  the  last matching option is performed.  Invalid -\b-W\bW\n",
            "              options are ignored (a warning message is printed about  invalid\n",
            "              options when the first warning is issued).  Warnings can also be\n",
            "              controlled from within a Python program using the _\bw_\ba_\br_\bn_\bi_\bn_\bg_\bs  mod‐\n",
            "              ule.\n",
            "\n",
            "              The  simplest  form  of  _\ba_\br_\bg_\bu_\bm_\be_\bn_\bt is one of the following _\ba_\bc_\bt_\bi_\bo_\bn\n",
            "              strings (or a unique abbreviation): i\big\bgn\bno\bor\bre\be to ignore  all  warn‐\n",
            "              ings; d\bde\bef\bfa\bau\bul\blt\bt to explicitly request the default behavior (print‐\n",
            "              ing each warning once per source line); a\bal\bll\bl to print  a  warning\n",
            "              each  time it occurs (this may generate many messages if a warn‐\n",
            "              ing is triggered repeatedly for the same source  line,  such  as\n",
            "              inside a loop); m\bmo\bod\bdu\bul\ble\be to print each warning only the first time\n",
            "              it occurs in each module; o\bon\bnc\bce\be to print each  warning  only  the\n",
            "              first time it occurs in the program; or e\ber\brr\bro\bor\br to raise an excep‐\n",
            "              tion instead of printing a warning message.\n",
            "\n",
            "              The  full  form  of  _\ba_\br_\bg_\bu_\bm_\be_\bn_\bt  is   _\ba_\bc_\bt_\bi_\bo_\bn:\b:_\bm_\be_\bs_\bs_\ba_\bg_\be:\b:_\bc_\ba_\bt_\be_\bg_\bo_\br_\by:\b:_\bm_\bo_\bd_\b‐\n",
            "              _\bu_\bl_\be:\b:_\bl_\bi_\bn_\be_\b.   Here,  _\ba_\bc_\bt_\bi_\bo_\bn is as explained above but only applies\n",
            "              to messages that match the remaining fields.  Empty fields match\n",
            "              all  values;  trailing empty fields may be omitted.  The _\bm_\be_\bs_\bs_\ba_\bg_\be\n",
            "              field matches the start of the  warning  message  printed;  this\n",
            "              match is case-insensitive.  The _\bc_\ba_\bt_\be_\bg_\bo_\br_\by field matches the warn‐\n",
            "              ing category.  This must be a class name; the match test whether\n",
            "              the  actual warning category of the message is a subclass of the\n",
            "              specified warning category.  The full class name must be  given.\n",
            "              The _\bm_\bo_\bd_\bu_\bl_\be field matches the (fully-qualified) module name; this\n",
            "              match is case-sensitive.  The _\bl_\bi_\bn_\be field matches the  line  num‐\n",
            "              ber,  where zero matches all line numbers and is thus equivalent\n",
            "              to an omitted line number.\n",
            "\n",
            "       -\b-x\bx     Skip the first line of the source.  This is intended for  a  DOS\n",
            "              specific hack only.  Warning: the line numbers in error messages\n",
            "              will be off by one!\n",
            "\n",
            "       -\b-3\b3     Warn about Python 3.x incompatibilities that 2to3  cannot  triv‐\n",
            "              ially fix.\n",
            "\n",
            "I\bIN\bNT\bTE\bER\bRP\bPR\bRE\bET\bTE\bER\bR I\bIN\bNT\bTE\bER\bRF\bFA\bAC\bCE\bE\n",
            "       The interpreter interface resembles that of the UNIX shell: when called\n",
            "       with standard input connected to a tty device, it prompts for  commands\n",
            "       and  executes  them  until an EOF is read; when called with a file name\n",
            "       argument or with a file as standard input,  it  reads  and  executes  a\n",
            "       _\bs_\bc_\br_\bi_\bp_\bt  from  that  file;  when called with -\b-c\bc _\bc_\bo_\bm_\bm_\ba_\bn_\bd, it executes the\n",
            "       Python statement(s) given as _\bc_\bo_\bm_\bm_\ba_\bn_\bd.  Here _\bc_\bo_\bm_\bm_\ba_\bn_\bd may contain  multi‐\n",
            "       ple  statements  separated by newlines.  Leading whitespace is signifi‐\n",
            "       cant in Python statements!  In non-interactive mode, the  entire  input\n",
            "       is parsed before it is executed.\n",
            "\n",
            "       If  available,  the script name and additional arguments thereafter are\n",
            "       passed to the script in the Python variable _\bs_\by_\bs_\b._\ba_\br_\bg_\bv, which is  a  list\n",
            "       of  strings (you must first _\bi_\bm_\bp_\bo_\br_\bt _\bs_\by_\bs to be able to access it).  If no\n",
            "       script name is given, _\bs_\by_\bs_\b._\ba_\br_\bg_\bv_\b[_\b0_\b] is an empty string; if  -\b-c\bc  is  used,\n",
            "       _\bs_\by_\bs_\b._\ba_\br_\bg_\bv_\b[_\b0_\b] contains the string _\b'_\b-_\bc_\b'_\b.  Note that options interpreted by\n",
            "       the Python interpreter itself are not placed in _\bs_\by_\bs_\b._\ba_\br_\bg_\bv.\n",
            "\n",
            "       In interactive mode, the primary prompt is  `>>>';  the  second  prompt\n",
            "       (which  appears  when a command is not complete) is `...'.  The prompts\n",
            "       can be changed by assignment to _\bs_\by_\bs_\b._\bp_\bs_\b1 or  _\bs_\by_\bs_\b._\bp_\bs_\b2.   The  interpreter\n",
            "       quits  when  it  reads an EOF at a prompt.  When an unhandled exception\n",
            "       occurs, a stack trace is printed and control  returns  to  the  primary\n",
            "       prompt;  in  non-interactive mode, the interpreter exits after printing\n",
            "       the stack trace.  The interrupt  signal  raises  the  _\bK_\be_\by_\bb_\bo_\ba_\br_\bd_\bI_\bn_\bt_\be_\br_\br_\bu_\bp_\bt\n",
            "       exception;  other  UNIX  signals are not caught (except that SIGPIPE is\n",
            "       sometimes ignored, in favor of the _\bI_\bO_\bE_\br_\br_\bo_\br exception).  Error  messages\n",
            "       are written to stderr.\n",
            "\n",
            "F\bFI\bIL\bLE\bES\bS A\bAN\bND\bD D\bDI\bIR\bRE\bEC\bCT\bTO\bOR\bRI\bIE\bES\bS\n",
            "       These are subject to difference depending on local installation conven‐\n",
            "       tions; ${prefix}  and  ${exec_prefix}  are  installation-dependent  and\n",
            "       should  be  interpreted  as for GNU software; they may be the same.  On\n",
            "       Debian GNU/{Hurd,Linux} the default for both is _\b/_\bu_\bs_\br.\n",
            "\n",
            "       _\b$_\b{_\be_\bx_\be_\bc_\b__\bp_\br_\be_\bf_\bi_\bx_\b}_\b/_\bb_\bi_\bn_\b/_\bp_\by_\bt_\bh_\bo_\bn\n",
            "              Recommended location of the interpreter.\n",
            "\n",
            "       _\b$_\b{_\bp_\br_\be_\bf_\bi_\bx_\b}_\b/_\bl_\bi_\bb_\b/_\bp_\by_\bt_\bh_\bo_\bn_\b<_\bv_\be_\br_\bs_\bi_\bo_\bn_\b>\n",
            "       _\b$_\b{_\be_\bx_\be_\bc_\b__\bp_\br_\be_\bf_\bi_\bx_\b}_\b/_\bl_\bi_\bb_\b/_\bp_\by_\bt_\bh_\bo_\bn_\b<_\bv_\be_\br_\bs_\bi_\bo_\bn_\b>\n",
            "              Recommended locations of the directories containing the standard\n",
            "              modules.\n",
            "\n",
            "       _\b$_\b{_\bp_\br_\be_\bf_\bi_\bx_\b}_\b/_\bi_\bn_\bc_\bl_\bu_\bd_\be_\b/_\bp_\by_\bt_\bh_\bo_\bn_\b<_\bv_\be_\br_\bs_\bi_\bo_\bn_\b>\n",
            "       _\b$_\b{_\be_\bx_\be_\bc_\b__\bp_\br_\be_\bf_\bi_\bx_\b}_\b/_\bi_\bn_\bc_\bl_\bu_\bd_\be_\b/_\bp_\by_\bt_\bh_\bo_\bn_\b<_\bv_\be_\br_\bs_\bi_\bo_\bn_\b>\n",
            "              Recommended  locations of the directories containing the include\n",
            "              files needed for developing Python extensions and embedding  the\n",
            "              interpreter.\n",
            "\n",
            "       _\b~_\b/_\b._\bp_\by_\bt_\bh_\bo_\bn_\br_\bc_\b._\bp_\by\n",
            "              User-specific initialization file loaded by the _\bu_\bs_\be_\br module; not\n",
            "              used by default or by most applications.\n",
            "\n",
            "E\bEN\bNV\bVI\bIR\bRO\bON\bNM\bME\bEN\bNT\bT V\bVA\bAR\bRI\bIA\bAB\bBL\bLE\bES\bS\n",
            "       PYTHONHOME\n",
            "              Change the  location  of  the  standard  Python  libraries.   By\n",
            "              default, the libraries are searched in ${prefix}/lib/python<ver‐\n",
            "              sion> and  ${exec_prefix}/lib/python<version>,  where  ${prefix}\n",
            "              and  ${exec_prefix} are installation-dependent directories, both\n",
            "              defaulting to _\b/_\bu_\bs_\br_\b/_\bl_\bo_\bc_\ba_\bl.  When $PYTHONHOME is set to  a  single\n",
            "              directory, its value replaces both ${prefix} and ${exec_prefix}.\n",
            "              To specify different values for these, set $PYTHONHOME to ${pre‐\n",
            "              fix}:${exec_prefix}.\n",
            "\n",
            "       PYTHONPATH\n",
            "              Augments  the  default search path for module files.  The format\n",
            "              is the same as the shell's $PATH: one or  more  directory  path‐\n",
            "              names   separated   by  colons.   Non-existent  directories  are\n",
            "              silently ignored.   The  default  search  path  is  installation\n",
            "              dependent,  but  generally begins with ${prefix}/lib/python<ver‐\n",
            "              sion> (see PYTHONHOME above).  The default search path is always\n",
            "              appended  to  $PYTHONPATH.   If  a script argument is given, the\n",
            "              directory containing the script is inserted in the path in front\n",
            "              of  $PYTHONPATH.  The search path can be manipulated from within\n",
            "              a Python program as the variable _\bs_\by_\bs_\b._\bp_\ba_\bt_\bh.\n",
            "\n",
            "       PYTHONSTARTUP\n",
            "              If this is the name of a readable file, the Python  commands  in\n",
            "              that  file  are executed before the first prompt is displayed in\n",
            "              interactive mode.  The file is executed in the same  name  space\n",
            "              where  interactive commands are executed so that objects defined\n",
            "              or imported in it can  be  used  without  qualification  in  the\n",
            "              interactive  session.   You  can also change the prompts _\bs_\by_\bs_\b._\bp_\bs_\b1\n",
            "              and _\bs_\by_\bs_\b._\bp_\bs_\b2 in this file.\n",
            "\n",
            "       PYTHONY2K\n",
            "              Set this to a non-empty string  to  cause  the  _\bt_\bi_\bm_\be  module  to\n",
            "              require  dates  specified  as  strings to include 4-digit years,\n",
            "              otherwise 2-digit years are converted based on  rules  described\n",
            "              in the _\bt_\bi_\bm_\be module documentation.\n",
            "\n",
            "       PYTHONOPTIMIZE\n",
            "              If  this is set to a non-empty string it is equivalent to speci‐\n",
            "              fying the -\b-O\bO option. If set to an integer, it is  equivalent  to\n",
            "              specifying -\b-O\bO multiple times.\n",
            "\n",
            "       PYTHONDEBUG\n",
            "              If  this is set to a non-empty string it is equivalent to speci‐\n",
            "              fying the -\b-d\bd option. If set to an integer, it is  equivalent  to\n",
            "              specifying -\b-d\bd multiple times.\n",
            "\n",
            "       PYTHONDONTWRITEBYTECODE\n",
            "              If  this is set to a non-empty string it is equivalent to speci‐\n",
            "              fying the -\b-B\bB option (don't try to write _\b._\bp_\by_\b[_\bc_\bo_\b] files).\n",
            "\n",
            "       PYTHONINSPECT\n",
            "              If this is set to a non-empty string it is equivalent to  speci‐\n",
            "              fying the -\b-i\bi option.\n",
            "\n",
            "       PYTHONIOENCODING\n",
            "              If  this is set before running the interpreter, it overrides the\n",
            "              encoding used for stdin/stdout/stderr, in the  syntax  _\be_\bn_\bc_\bo_\bd_\bi_\bn_\bg_\b‐\n",
            "              _\bn_\ba_\bm_\be:\b:_\be_\br_\br_\bo_\br_\bh_\ba_\bn_\bd_\bl_\be_\br  The _\be_\br_\br_\bo_\br_\bh_\ba_\bn_\bd_\bl_\be_\br part is optional and has the\n",
            "              same meaning as in str.encode. For stderr, the _\be_\br_\br_\bo_\br_\bh_\ba_\bn_\bd_\bl_\be_\br\n",
            "               part is ignored; the handler will always be ´backslashreplace´.\n",
            "\n",
            "       PYTHONNOUSERSITE\n",
            "              If this is set to a non-empty string it is equivalent to  speci‐\n",
            "              fying  the  -\b-s\bs  option  (Don't  add  the  user site directory to\n",
            "              sys.path).\n",
            "\n",
            "       PYTHONUNBUFFERED\n",
            "              If this is set to a non-empty string it is equivalent to  speci‐\n",
            "              fying the -\b-u\bu option.\n",
            "\n",
            "       PYTHONVERBOSE\n",
            "              If  this is set to a non-empty string it is equivalent to speci‐\n",
            "              fying the -\b-v\bv option. If set to an integer, it is  equivalent  to\n",
            "              specifying -\b-v\bv multiple times.\n",
            "\n",
            "       PYTHONWARNINGS\n",
            "              If  this  is set to a comma-separated string it is equivalent to\n",
            "              specifying the -\b-W\bW option for each separate value.\n",
            "\n",
            "       PYTHONHASHSEED\n",
            "              If this variable is set to \"random\", the effect is the  same  as\n",
            "              specifying  the  -\b-R\bR  option:  a random value is used to seed the\n",
            "              hashes of str, bytes and datetime objects.\n",
            "\n",
            "              If PYTHONHASHSEED is set to an integer value, it is  used  as  a\n",
            "              fixed seed for generating the hash() of the types covered by the\n",
            "              hash randomization.  Its purpose is to allow repeatable hashing,\n",
            "              such  as for selftests for the interpreter itself, or to allow a\n",
            "              cluster of python processes to share hash values.\n",
            "\n",
            "              The  integer  must  be   a   decimal   number   in   the   range\n",
            "              [0,4294967295].   Specifying  the  value 0 will lead to the same\n",
            "              hash values as when hash randomization is disabled.\n",
            "\n",
            "A\bAU\bUT\bTH\bHO\bOR\bR\n",
            "       The Python Software Foundation: https://www.python.org/psf/\n",
            "\n",
            "I\bIN\bNT\bTE\bER\bRN\bNE\bET\bT R\bRE\bES\bSO\bOU\bUR\bRC\bCE\bES\bS\n",
            "       Main website:  https://www.python.org/\n",
            "       Documentation:          file:///usr/share/doc/python2.7/html/index.html\n",
            "       (python-doc package) or https://docs.python.org/2/\n",
            "       Developer resources:  https://docs.python.org/devguide/\n",
            "       Downloads:  https://www.python.org/downloads/\n",
            "       Module repository:  https://pypi.python.org/\n",
            "       Newsgroups:  comp.lang.python, comp.lang.python.announce\n",
            "\n",
            "L\bLI\bIC\bCE\bEN\bNS\bSI\bIN\bNG\bG\n",
            "       Python  is  distributed  under  an  Open  Source license.  See the file\n",
            "       \"LICENSE\" in the Python source distribution for information on terms  &\n",
            "       conditions  for  accessing  and  otherwise  using Python and for a DIS‐\n",
            "       CLAIMER OF ALL WARRANTIES.\n",
            "\n",
            "                                                                     PYTHON(1)\n"
          ]
        }
      ]
    },
    {
      "cell_type": "markdown",
      "metadata": {
        "id": "LmvKJ1vaoGuD"
      },
      "source": [
        "En el texto retornado se puede encontrar información importante como posibles opciones (_flags_) y parámetros, descripción detallada del comportamiento del comando e información adicional.\n",
        "\n",
        "Como este comando permite consultar la información para los comandos disponibles en el sistema, podemos ver su propia descripción:"
      ]
    },
    {
      "cell_type": "code",
      "metadata": {
        "colab": {
          "base_uri": "https://localhost:8080/"
        },
        "id": "pmB89W4Ho2mf",
        "outputId": "3f6d4459-4c49-4dc1-dafe-de247d7f9e15"
      },
      "source": [
        "# Manual de 'man'\n",
        "!man man"
      ],
      "execution_count": null,
      "outputs": [
        {
          "name": "stdout",
          "output_type": "stream",
          "text": [
            "MAN(1)                        Manual pager utils                        MAN(1)\n",
            "\n",
            "N\bNA\bAM\bME\bE\n",
            "       man - an interface to the on-line reference manuals\n",
            "\n",
            "S\bSY\bYN\bNO\bOP\bPS\bSI\bIS\bS\n",
            "       m\bma\ban\bn  [-\b-C\bC  _\bf_\bi_\bl_\be]  [-\b-d\bd]  [-\b-D\bD]  [-\b--\b-w\bwa\bar\brn\bni\bin\bng\bgs\bs[=_\bw_\ba_\br_\bn_\bi_\bn_\bg_\bs]]  [-\b-R\bR _\be_\bn_\bc_\bo_\bd_\bi_\bn_\bg] [-\b-L\bL\n",
            "       _\bl_\bo_\bc_\ba_\bl_\be] [-\b-m\bm _\bs_\by_\bs_\bt_\be_\bm[,...]] [-\b-M\bM _\bp_\ba_\bt_\bh] [-\b-S\bS _\bl_\bi_\bs_\bt]  [-\b-e\be  _\be_\bx_\bt_\be_\bn_\bs_\bi_\bo_\bn]  [-\b-i\bi|-\b-I\bI]\n",
            "       [-\b--\b-r\bre\beg\bge\bex\bx|-\b--\b-w\bwi\bil\bld\bdc\bca\bar\brd\bd]   [-\b--\b-n\bna\bam\bme\bes\bs-\b-o\bon\bnl\bly\by]  [-\b-a\ba]  [-\b-u\bu]  [-\b--\b-n\bno\bo-\b-s\bsu\bub\bbp\bpa\bag\bge\bes\bs]  [-\b-P\bP\n",
            "       _\bp_\ba_\bg_\be_\br] [-\b-r\br _\bp_\br_\bo_\bm_\bp_\bt] [-\b-7\b7] [-\b-E\bE _\be_\bn_\bc_\bo_\bd_\bi_\bn_\bg] [-\b--\b-n\bno\bo-\b-h\bhy\byp\bph\bhe\ben\bna\bat\bti\bio\bon\bn] [-\b--\b-n\bno\bo-\b-j\bju\bus\bst\bti\bif\bfi\bi‐\b‐\n",
            "       c\bca\bat\bti\bio\bon\bn]  [-\b-p\bp  _\bs_\bt_\br_\bi_\bn_\bg]  [-\b-t\bt]  [-\b-T\bT[_\bd_\be_\bv_\bi_\bc_\be]]  [-\b-H\bH[_\bb_\br_\bo_\bw_\bs_\be_\br]] [-\b-X\bX[_\bd_\bp_\bi]] [-\b-Z\bZ]\n",
            "       [[_\bs_\be_\bc_\bt_\bi_\bo_\bn] _\bp_\ba_\bg_\be[._\bs_\be_\bc_\bt_\bi_\bo_\bn] ...] ...\n",
            "       m\bma\ban\bn -\b-k\bk [_\ba_\bp_\br_\bo_\bp_\bo_\bs _\bo_\bp_\bt_\bi_\bo_\bn_\bs] _\br_\be_\bg_\be_\bx_\bp ...\n",
            "       m\bma\ban\bn -\b-K\bK [-\b-w\bw|-\b-W\bW] [-\b-S\bS _\bl_\bi_\bs_\bt] [-\b-i\bi|-\b-I\bI] [-\b--\b-r\bre\beg\bge\bex\bx] [_\bs_\be_\bc_\bt_\bi_\bo_\bn] _\bt_\be_\br_\bm ...\n",
            "       m\bma\ban\bn -\b-f\bf [_\bw_\bh_\ba_\bt_\bi_\bs _\bo_\bp_\bt_\bi_\bo_\bn_\bs] _\bp_\ba_\bg_\be ...\n",
            "       m\bma\ban\bn -\b-l\bl [-\b-C\bC _\bf_\bi_\bl_\be] [-\b-d\bd] [-\b-D\bD] [-\b--\b-w\bwa\bar\brn\bni\bin\bng\bgs\bs[=_\bw_\ba_\br_\bn_\bi_\bn_\bg_\bs]]  [-\b-R\bR  _\be_\bn_\bc_\bo_\bd_\bi_\bn_\bg]  [-\b-L\bL\n",
            "       _\bl_\bo_\bc_\ba_\bl_\be]  [-\b-P\bP  _\bp_\ba_\bg_\be_\br]  [-\b-r\br  _\bp_\br_\bo_\bm_\bp_\bt]  [-\b-7\b7] [-\b-E\bE _\be_\bn_\bc_\bo_\bd_\bi_\bn_\bg] [-\b-p\bp _\bs_\bt_\br_\bi_\bn_\bg] [-\b-t\bt]\n",
            "       [-\b-T\bT[_\bd_\be_\bv_\bi_\bc_\be]] [-\b-H\bH[_\bb_\br_\bo_\bw_\bs_\be_\br]] [-\b-X\bX[_\bd_\bp_\bi]] [-\b-Z\bZ] _\bf_\bi_\bl_\be ...\n",
            "       m\bma\ban\bn -\b-w\bw|-\b-W\bW [-\b-C\bC _\bf_\bi_\bl_\be] [-\b-d\bd] [-\b-D\bD] _\bp_\ba_\bg_\be ...\n",
            "       m\bma\ban\bn -\b-c\bc [-\b-C\bC _\bf_\bi_\bl_\be] [-\b-d\bd] [-\b-D\bD] _\bp_\ba_\bg_\be ...\n",
            "       m\bma\ban\bn [-\b-?\b?V\bV]\n",
            "\n",
            "D\bDE\bES\bSC\bCR\bRI\bIP\bPT\bTI\bIO\bON\bN\n",
            "       m\bma\ban\bn is the system's manual pager.  Each _\bp_\ba_\bg_\be argument given to  m\bma\ban\bn  is\n",
            "       normally  the  name of a program, utility or function.  The _\bm_\ba_\bn_\bu_\ba_\bl _\bp_\ba_\bg_\be\n",
            "       associated with each of these arguments is then found and displayed.  A\n",
            "       _\bs_\be_\bc_\bt_\bi_\bo_\bn,  if  provided, will direct m\bma\ban\bn to look only in that _\bs_\be_\bc_\bt_\bi_\bo_\bn of\n",
            "       the manual.  The default action is to search in all  of  the  available\n",
            "       _\bs_\be_\bc_\bt_\bi_\bo_\bn_\bs  following  a pre-defined order (\"1 n l 8 3 2 3posix 3pm 3perl\n",
            "       3am 5 4 9 6 7\" by default, unless overridden by the  S\bSE\bEC\bCT\bTI\bIO\bON\bN  directive\n",
            "       in _\b/_\be_\bt_\bc_\b/_\bm_\ba_\bn_\bp_\ba_\bt_\bh_\b._\bc_\bo_\bn_\bf_\bi_\bg), and to show only the first _\bp_\ba_\bg_\be found, even if\n",
            "       _\bp_\ba_\bg_\be exists in several _\bs_\be_\bc_\bt_\bi_\bo_\bn_\bs.\n",
            "\n",
            "       The table below shows the _\bs_\be_\bc_\bt_\bi_\bo_\bn numbers of the manual followed by the\n",
            "       types of pages they contain.\n",
            "\n",
            "       1   Executable programs or shell commands\n",
            "       2   System calls (functions provided by the kernel)\n",
            "       3   Library calls (functions within program libraries)\n",
            "       4   Special files (usually found in _\b/_\bd_\be_\bv)\n",
            "       5   File formats and conventions eg _\b/_\be_\bt_\bc_\b/_\bp_\ba_\bs_\bs_\bw_\bd\n",
            "       6   Games\n",
            "       7   Miscellaneous  (including  macro  packages  and  conventions), e.g.\n",
            "           m\bma\ban\bn(7), g\bgr\bro\bof\bff\bf(7)\n",
            "       8   System administration commands (usually only for root)\n",
            "       9   Kernel routines [Non standard]\n",
            "\n",
            "       A manual _\bp_\ba_\bg_\be consists of several sections.\n",
            "\n",
            "       Conventional  section  names  include  N\bNA\bAM\bME\bE,  S\bSY\bYN\bNO\bOP\bPS\bSI\bIS\bS,  C\bCO\bON\bNF\bFI\bIG\bGU\bUR\bRA\bAT\bTI\bIO\bON\bN,\n",
            "       D\bDE\bES\bSC\bCR\bRI\bIP\bPT\bTI\bIO\bON\bN,  O\bOP\bPT\bTI\bIO\bON\bNS\bS,  E\bEX\bXI\bIT\bT S\bST\bTA\bAT\bTU\bUS\bS, R\bRE\bET\bTU\bUR\bRN\bN V\bVA\bAL\bLU\bUE\bE, E\bER\bRR\bRO\bOR\bRS\bS, E\bEN\bNV\bVI\bIR\bRO\bON\bNM\bME\bEN\bNT\bT,\n",
            "       F\bFI\bIL\bLE\bES\bS, V\bVE\bER\bRS\bSI\bIO\bON\bNS\bS, C\bCO\bON\bNF\bFO\bOR\bRM\bMI\bIN\bNG\bG T\bTO\bO,  N\bNO\bOT\bTE\bES\bS,  B\bBU\bUG\bGS\bS,  E\bEX\bXA\bAM\bMP\bPL\bLE\bE,  A\bAU\bUT\bTH\bHO\bOR\bRS\bS,  and\n",
            "       S\bSE\bEE\bE A\bAL\bLS\bSO\bO.\n",
            "\n",
            "       The following conventions apply to the S\bSY\bYN\bNO\bOP\bPS\bSI\bIS\bS section and can be used\n",
            "       as a guide in other sections.\n",
            "\n",
            "       b\bbo\bol\bld\bd t\bte\bex\bxt\bt          type exactly as shown.\n",
            "       _\bi_\bt_\ba_\bl_\bi_\bc _\bt_\be_\bx_\bt        replace with appropriate argument.\n",
            "       [-\b-a\bab\bbc\bc]             any or all arguments within [ ] are optional.\n",
            "       -\b-a\ba|-\b-b\bb              options delimited by | cannot be used together.\n",
            "\n",
            "       _\ba_\br_\bg_\bu_\bm_\be_\bn_\bt ...       _\ba_\br_\bg_\bu_\bm_\be_\bn_\bt is repeatable.\n",
            "       [_\be_\bx_\bp_\br_\be_\bs_\bs_\bi_\bo_\bn] ...   entire _\be_\bx_\bp_\br_\be_\bs_\bs_\bi_\bo_\bn within [ ] is repeatable.\n",
            "\n",
            "       Exact rendering may vary depending on the output device.  For instance,\n",
            "       man will usually not be able to render italics when running in a termi‐\n",
            "       nal, and will typically use underlined or coloured text instead.\n",
            "\n",
            "       The command or function illustration is a pattern that should match all\n",
            "       possible invocations.  In some cases it is advisable to illustrate sev‐\n",
            "       eral exclusive invocations as is shown in the S\bSY\bYN\bNO\bOP\bPS\bSI\bIS\bS section of  this\n",
            "       manual page.\n",
            "\n",
            "E\bEX\bXA\bAM\bMP\bPL\bLE\bES\bS\n",
            "       m\bma\ban\bn _\bl_\bs\n",
            "           Display the manual page for the _\bi_\bt_\be_\bm (program) _\bl_\bs.\n",
            "\n",
            "       m\bma\ban\bn _\bm_\ba_\bn._\b7\n",
            "           Display the manual page for macro package _\bm_\ba_\bn from section _\b7.\n",
            "\n",
            "       m\bma\ban\bn -\b-a\ba _\bi_\bn_\bt_\br_\bo\n",
            "           Display,  in  succession,  all  of the available _\bi_\bn_\bt_\br_\bo manual pages\n",
            "           contained within the manual.  It is possible to quit  between  suc‐\n",
            "           cessive displays or skip any of them.\n",
            "\n",
            "       m\bma\ban\bn -\b-t\bt _\ba_\bl_\bi_\ba_\bs | _\bl_\bp_\br _\b-_\bP_\bp_\bs\n",
            "           Format  the manual page referenced by `_\ba_\bl_\bi_\ba_\bs', usually a shell man‐\n",
            "           ual page, into the default t\btr\bro\bof\bff\bf or g\bgr\bro\bof\bff\bf format and pipe it to the\n",
            "           printer  named  _\bp_\bs.   The default output for g\bgr\bro\bof\bff\bf is usually Post‐\n",
            "           Script.  m\bma\ban\bn -\b--\b-h\bhe\bel\blp\bp should advise as to which processor is bound to\n",
            "           the -\b-t\bt option.\n",
            "\n",
            "       m\bma\ban\bn -\b-l\bl -\b-T\bT_\bd_\bv_\bi _\b._\b/_\bf_\bo_\bo_\b._\b1_\bx_\b._\bg_\bz >\b> _\b._\b/_\bf_\bo_\bo_\b._\b1_\bx_\b._\bd_\bv_\bi\n",
            "           This  command  will  decompress  and format the nroff source manual\n",
            "           page _\b._\b/_\bf_\bo_\bo_\b._\b1_\bx_\b._\bg_\bz into a d\bde\bev\bvi\bic\bce\be i\bin\bnd\bde\bep\bpe\ben\bnd\bde\ben\bnt\bt (\b(d\bdv\bvi\bi)\b) file.   The  redi‐\n",
            "           rection is necessary as the -\b-T\bT flag causes output to be directed to\n",
            "           s\bst\btd\bdo\bou\but\bt with no pager.  The output could be viewed  with  a  program\n",
            "           such  as  x\bxd\bdv\bvi\bi or further processed into PostScript using a program\n",
            "           such as d\bdv\bvi\bip\bps\bs.\b.\n",
            "\n",
            "       m\bma\ban\bn -\b-k\bk _\bp_\br_\bi_\bn_\bt_\bf\n",
            "           Search the short descriptions and manual page names for the keyword\n",
            "           _\bp_\br_\bi_\bn_\bt_\bf  as  regular expression.  Print out any matches.  Equivalent\n",
            "           to a\bap\bpr\bro\bop\bpo\bos\bs _\bp_\br_\bi_\bn_\bt_\bf.\b.\n",
            "\n",
            "       m\bma\ban\bn -\b-f\bf _\bs_\bm_\ba_\bi_\bl\n",
            "           Lookup the manual pages referenced by _\bs_\bm_\ba_\bi_\bl and print out the short\n",
            "           descriptions of any found.  Equivalent to w\bwh\bha\bat\bti\bis\bs _\bs_\bm_\ba_\bi_\bl.\b.\n",
            "\n",
            "O\bOV\bVE\bER\bRV\bVI\bIE\bEW\bW\n",
            "       Many  options are available to m\bma\ban\bn in order to give as much flexibility\n",
            "       as possible to the user.  Changes can be made to the search path,  sec‐\n",
            "       tion  order,  output  processor,  and  other  behaviours and operations\n",
            "       detailed below.\n",
            "\n",
            "       If set, various environment variables are interrogated to determine the\n",
            "       operation  of  m\bma\ban\bn.   It  is  possible  to set the `catch all' variable\n",
            "       $M\bMA\bAN\bNO\bOP\bPT\bT to any string in command line format with  the  exception  that\n",
            "       any  spaces  used as part of an option's argument must be escaped (pre‐\n",
            "       ceded by a backslash).  m\bma\ban\bn will parse $M\bMA\bAN\bNO\bOP\bPT\bT prior to parsing its own\n",
            "       command  line.   Those options requiring an argument will be overridden\n",
            "       by the same options found on the command line.  To  reset  all  of  the\n",
            "       options set in $M\bMA\bAN\bNO\bOP\bPT\bT, -\b-D\bD can be specified as the initial command line\n",
            "       option.  This will allow man to `forget' about the options specified in\n",
            "       $M\bMA\bAN\bNO\bOP\bPT\bT although they must still have been valid.\n",
            "\n",
            "       The  manual  pager  utilities  packaged as m\bma\ban\bn-\b-d\bdb\bb make extensive use of\n",
            "       i\bin\bnd\bde\bex\bx database caches.  These caches contain information such as  where\n",
            "       each  manual  page  can  be found on the filesystem and what its _\bw_\bh_\ba_\bt_\bi_\bs\n",
            "       (short one line description of the man page) contains, and allow m\bma\ban\bn to\n",
            "       run  faster  than  if it had to search the filesystem each time to find\n",
            "       the appropriate manual page.  If requested using  the  -\b-u\bu  option,  m\bma\ban\bn\n",
            "       will  ensure  that  the caches remain consistent, which can obviate the\n",
            "       need to manually run software to update traditional _\bw_\bh_\ba_\bt_\bi_\bs  text  data‐\n",
            "       bases.\n",
            "\n",
            "       If  m\bma\ban\bn  cannot  find a m\bma\ban\bnd\bdb\bb initiated i\bin\bnd\bde\bex\bx database for a particular\n",
            "       manual page hierarchy, it will still search for  the  requested  manual\n",
            "       pages,  although  file globbing will be necessary to search within that\n",
            "       hierarchy.  If w\bwh\bha\bat\bti\bis\bs or a\bap\bpr\bro\bop\bpo\bos\bs fails to find an i\bin\bnd\bde\bex\bx it will try  to\n",
            "       extract information from a traditional _\bw_\bh_\ba_\bt_\bi_\bs database instead.\n",
            "\n",
            "       These  utilities  support  compressed  source  nroff  files  having, by\n",
            "       default, the extensions of .\b.Z\bZ, .\b.z\bz and .\b.g\bgz\bz.  It is possible to deal with\n",
            "       any  compression  extension, but this information must be known at com‐\n",
            "       pile time.  Also, by default, any cat  pages  produced  are  compressed\n",
            "       using g\bgz\bzi\bip\bp.  Each `global' manual page hierarchy such as _\b/_\bu_\bs_\br_\b/_\bs_\bh_\ba_\br_\be_\b/_\bm_\ba_\bn\n",
            "       or _\b/_\bu_\bs_\br_\b/_\bX_\b1_\b1_\bR_\b6_\b/_\bm_\ba_\bn may have any directory as  its  cat  page  hierarchy.\n",
            "       Traditionally  the cat pages are stored under the same hierarchy as the\n",
            "       man pages, but for reasons such as those specified in the F\bFi\bil\ble\be  H\bHi\bie\ber\bra\bar\br‐\b‐\n",
            "       c\bch\bhy\by  S\bSt\bta\ban\bnd\bda\bar\brd\bd  (\b(F\bFH\bHS\bS)\b),  it  may  be better to store them elsewhere.  For\n",
            "       details on how to do this, please read m\bma\ban\bnp\bpa\bat\bth\bh(5).  For details on  why\n",
            "       to do this, read the standard.\n",
            "\n",
            "       International  support is available with this package.  Native language\n",
            "       manual pages are accessible (if available on your system)  via  use  of\n",
            "       _\bl_\bo_\bc_\ba_\bl_\be  functions.   To  activate  such support, it is necessary to set\n",
            "       either $L\bLC\bC_\b_M\bME\bES\bSS\bSA\bAG\bGE\bES\bS, $L\bLA\bAN\bNG\bG  or  another  system  dependent  environment\n",
            "       variable to your language locale, usually specified in the P\bPO\bOS\bSI\bIX\bX 1\b10\b00\b03\b3.\b.1\b1\n",
            "       based format:\n",
            "\n",
            "       <_\bl_\ba_\bn_\bg_\bu_\ba_\bg_\be>[_\b_<_\bt_\be_\br_\br_\bi_\bt_\bo_\br_\by>[.\b.<_\bc_\bh_\ba_\br_\ba_\bc_\bt_\be_\br_\b-_\bs_\be_\bt>[,\b,<_\bv_\be_\br_\bs_\bi_\bo_\bn>]]]\n",
            "\n",
            "       If the desired page is available in your _\bl_\bo_\bc_\ba_\bl_\be, it will  be  displayed\n",
            "       in lieu of the standard (usually American English) page.\n",
            "\n",
            "       Support  for  international message catalogues is also featured in this\n",
            "       package and can be activated in the same way, again if  available.   If\n",
            "       you  find  that  the  manual pages and message catalogues supplied with\n",
            "       this package are not available in your native language  and  you  would\n",
            "       like  to supply them, please contact the maintainer who will be coordi‐\n",
            "       nating such activity.\n",
            "\n",
            "       For information regarding other features and extensions available  with\n",
            "       this manual pager, please read the documents supplied with the package.\n",
            "\n",
            "D\bDE\bEF\bFA\bAU\bUL\bLT\bTS\bS\n",
            "       m\bma\ban\bn  will search for the desired manual pages within the _\bi_\bn_\bd_\be_\bx database\n",
            "       caches. If the -\b-u\bu option is given, a cache consistency  check  is  per‐\n",
            "       formed  to  ensure the databases accurately reflect the filesystem.  If\n",
            "       this option is always given, it is not generally necessary to run m\bma\ban\bnd\bdb\bb\n",
            "       after the caches are initially created, unless a cache becomes corrupt.\n",
            "       However, the cache consistency check can be slow on systems  with  many\n",
            "       manual  pages  installed, so it is not performed by default, and system\n",
            "       administrators may wish to run m\bma\ban\bnd\bdb\bb every week or so to keep the data‐\n",
            "       base  caches  fresh.   To forestall problems caused by outdated caches,\n",
            "       m\bma\ban\bn will fall back to file globbing if a cache lookup fails, just as it\n",
            "       would if no cache was present.\n",
            "\n",
            "       Once  a  manual page has been located, a check is performed to find out\n",
            "       if a relative preformatted `cat' file already exists and is newer  than\n",
            "       the nroff file.  If it does and is, this preformatted file is (usually)\n",
            "       decompressed and then displayed, via use of a pager.  The pager can  be\n",
            "       specified  in  a number of ways, or else will fall back to a default is\n",
            "       used (see option -\b-P\bP for details).  If no cat is found or is older  than\n",
            "       the  nroff  file, the nroff is filtered through various programs and is\n",
            "       shown immediately.\n",
            "\n",
            "       If a cat file can be produced (a relative cat directory exists and  has\n",
            "       appropriate  permissions),  m\bma\ban\bn will compress and store the cat file in\n",
            "       the background.\n",
            "\n",
            "       The filters are deciphered by a number of means.  Firstly, the  command\n",
            "       line option -\b-p\bp or the environment variable $M\bMA\bAN\bNR\bRO\bOF\bFF\bFS\bSE\bEQ\bQ is interrogated.\n",
            "       If -\b-p\bp was not used and the environment variable was not set,  the  ini‐\n",
            "       tial  line  of  the nroff file is parsed for a preprocessor string.  To\n",
            "       contain a valid preprocessor string, the first line must resemble\n",
            "\n",
            "       '\b'\\\b\\\"\b\" <s\bst\btr\bri\bin\bng\bg>\n",
            "\n",
            "       where s\bst\btr\bri\bin\bng\bg can be any combination of letters described by  option  -\b-p\bp\n",
            "       below.\n",
            "\n",
            "       If  none of the above methods provide any filter information, a default\n",
            "       set is used.\n",
            "\n",
            "       A formatting pipeline is formed from the filters and the  primary  for‐\n",
            "       matter  (n\bnr\bro\bof\bff\bf or [t\btg\bg]r\bro\bof\bff\bf with -\b-t\bt) and executed.  Alternatively, if an\n",
            "       executable program _\bm_\ba_\bn_\bd_\bb_\b__\bn_\bf_\bm_\bt (or _\bm_\ba_\bn_\bd_\bb_\b__\bt_\bf_\bm_\bt with -\b-t\bt) exists in the man\n",
            "       tree  root,  it  is executed instead.  It gets passed the manual source\n",
            "       file, the preprocessor string, and optionally the device specified with\n",
            "       -\b-T\bT or -\b-E\bE as arguments.\n",
            "\n",
            "O\bOP\bPT\bTI\bIO\bON\bNS\bS\n",
            "       Non argument options that are duplicated either on the command line, in\n",
            "       $M\bMA\bAN\bNO\bOP\bPT\bT, or both, are not harmful.  For options that require  an  argu‐\n",
            "       ment, each duplication will override the previous argument value.\n",
            "\n",
            "   G\bGe\ben\bne\ber\bra\bal\bl o\bop\bpt\bti\bio\bon\bns\bs\n",
            "       -\b-C\bC _\bf_\bi_\bl_\be, -\b--\b-c\bco\bon\bnf\bfi\big\bg-\b-f\bfi\bil\ble\be=\b=_\bf_\bi_\bl_\be\n",
            "              Use  this  user  configuration  file  rather than the default of\n",
            "              _\b~_\b/_\b._\bm_\ba_\bn_\bp_\ba_\bt_\bh.\n",
            "\n",
            "       -\b-d\bd, -\b--\b-d\bde\beb\bbu\bug\bg\n",
            "              Print debugging information.\n",
            "\n",
            "       -\b-D\bD, -\b--\b-d\bde\bef\bfa\bau\bul\blt\bt\n",
            "              This option is normally issued as  the  very  first  option  and\n",
            "              resets  m\bma\ban\bn'\b's\bs  behaviour  to  its  default.  Its use is to reset\n",
            "              those options that may have been set in  $M\bMA\bAN\bNO\bOP\bPT\bT.   Any  options\n",
            "              that follow -\b-D\bD will have their usual effect.\n",
            "\n",
            "       -\b--\b-w\bwa\bar\brn\bni\bin\bng\bgs\bs[=_\bw_\ba_\br_\bn_\bi_\bn_\bg_\bs]\n",
            "              Enable  warnings from _\bg_\br_\bo_\bf_\bf.  This may be used to perform sanity\n",
            "              checks on the source text of manual pages.  _\bw_\ba_\br_\bn_\bi_\bn_\bg_\bs is a comma-\n",
            "              separated  list  of  warning  names;  if it is not supplied, the\n",
            "              default is \"mac\".  See the “Warnings” node in i\bin\bnf\bfo\bo g\bgr\bro\bof\bff\bf  for  a\n",
            "              list of available warning names.\n",
            "\n",
            "   M\bMa\bai\bin\bn m\bmo\bod\bde\bes\bs o\bof\bf o\bop\bpe\ber\bra\bat\bti\bio\bon\bn\n",
            "       -\b-f\bf, -\b--\b-w\bwh\bha\bat\bti\bis\bs\n",
            "              Equivalent to w\bwh\bha\bat\bti\bis\bs.  Display a short description from the man‐\n",
            "              ual page, if available.  See w\bwh\bha\bat\bti\bis\bs(1) for details.\n",
            "\n",
            "       -\b-k\bk, -\b--\b-a\bap\bpr\bro\bop\bpo\bos\bs\n",
            "              Equivalent to a\bap\bpr\bro\bop\bpo\bos\bs.  Search the short  manual  page  descrip‐\n",
            "              tions  for keywords and display any matches.  See a\bap\bpr\bro\bop\bpo\bos\bs(1) for\n",
            "              details.\n",
            "\n",
            "       -\b-K\bK, -\b--\b-g\bgl\blo\bob\bba\bal\bl-\b-a\bap\bpr\bro\bop\bpo\bos\bs\n",
            "              Search for text in all manual  pages.   This  is  a  brute-force\n",
            "              search,  and is likely to take some time; if you can, you should\n",
            "              specify a section to reduce the number of pages that need to  be\n",
            "              searched.   Search terms may be simple strings (the default), or\n",
            "              regular expressions if the -\b--\b-r\bre\beg\bge\bex\bx option is used.\n",
            "\n",
            "              Note that this searches the _\bs_\bo_\bu_\br_\bc_\be_\bs of the manual pages, not the\n",
            "              rendered  text, and so may include false positives due to things\n",
            "              like comments in source  files.   Searching  the  rendered  text\n",
            "              would be much slower.\n",
            "\n",
            "       -\b-l\bl, -\b--\b-l\blo\boc\bca\bal\bl-\b-f\bfi\bil\ble\be\n",
            "              Activate  `local'  mode.   Format and display local manual files\n",
            "              instead of searching through  the  system's  manual  collection.\n",
            "              Each manual page argument will be interpreted as an nroff source\n",
            "              file in the correct format.  No cat file is produced.  If '-' is\n",
            "              listed  as one of the arguments, input will be taken from stdin.\n",
            "              When this option is not used, and man fails  to  find  the  page\n",
            "              required,  before  displaying  the error message, it attempts to\n",
            "              act as if this option was supplied, using the name as a filename\n",
            "              and looking for an exact match.\n",
            "\n",
            "       -\b-w\bw, -\b--\b-w\bwh\bhe\ber\bre\be, -\b--\b-p\bpa\bat\bth\bh, -\b--\b-l\blo\boc\bca\bat\bti\bio\bon\bn\n",
            "              Don't  actually display the manual pages, but do print the loca‐\n",
            "              tion(s) of the source nroff files that would be formatted.\n",
            "\n",
            "       -\b-W\bW, -\b--\b-w\bwh\bhe\ber\bre\be-\b-c\bca\bat\bt, -\b--\b-l\blo\boc\bca\bat\bti\bio\bon\bn-\b-c\bca\bat\bt\n",
            "              Don't actually display the manual pages, but do print the  loca‐\n",
            "              tion(s)  of the cat files that would be displayed.  If -w and -W\n",
            "              are both specified, print both separated by a space.\n",
            "\n",
            "       -\b-c\bc, -\b--\b-c\bca\bat\btm\bma\ban\bn\n",
            "              This option is not for general use and should only  be  used  by\n",
            "              the c\bca\bat\btm\bma\ban\bn program.\n",
            "\n",
            "       -\b-R\bR _\be_\bn_\bc_\bo_\bd_\bi_\bn_\bg, -\b--\b-r\bre\bec\bco\bod\bde\be=_\be_\bn_\bc_\bo_\bd_\bi_\bn_\bg\n",
            "              Instead  of  formatting the manual page in the usual way, output\n",
            "              its source converted to the specified _\be_\bn_\bc_\bo_\bd_\bi_\bn_\bg.  If you  already\n",
            "              know  the  encoding  of  the  source file, you can also use m\bma\ban\bn‐\b‐\n",
            "              c\bco\bon\bnv\bv(1) directly.  However, this option allows  you  to  convert\n",
            "              several  manual  pages  to  a  single encoding without having to\n",
            "              explicitly state the encoding of each, provided that  they  were\n",
            "              already  installed in a structure similar to a manual page hier‐\n",
            "              archy.\n",
            "\n",
            "   F\bFi\bin\bnd\bdi\bin\bng\bg m\bma\ban\bnu\bua\bal\bl p\bpa\bag\bge\bes\bs\n",
            "       -\b-L\bL _\bl_\bo_\bc_\ba_\bl_\be, -\b--\b-l\blo\boc\bca\bal\ble\be=\b=_\bl_\bo_\bc_\ba_\bl_\be\n",
            "              m\bma\ban\bn will normally determine your current locale by a call to the\n",
            "              C  function  s\bse\bet\btl\blo\boc\bca\bal\ble\be(3) which interrogates various environment\n",
            "              variables, possibly including $L\bLC\bC_\b_M\bME\bES\bSS\bSA\bAG\bGE\bES\bS and $L\bLA\bAN\bNG\bG.  To tempo‐\n",
            "              rarily  override the determined value, use this option to supply\n",
            "              a _\bl_\bo_\bc_\ba_\bl_\be string directly to m\bma\ban\bn.  Note that  it  will  not  take\n",
            "              effect  until the search for pages actually begins.  Output such\n",
            "              as the help message will always be displayed  in  the  initially\n",
            "              determined locale.\n",
            "\n",
            "       -\b-m\bm _\bs_\by_\bs_\bt_\be_\bm[,...], -\b--\b-s\bsy\bys\bst\bte\bem\bms\bs=\b=_\bs_\by_\bs_\bt_\be_\bm[,...]\n",
            "              If  this  system  has  access to other operating system's manual\n",
            "              pages, they can be accessed using this option.  To search for  a\n",
            "              manual  page from NewOS's manual page collection, use the option\n",
            "              -\b-m\bm N\bNe\bew\bwO\bOS\bS.\n",
            "\n",
            "              The _\bs_\by_\bs_\bt_\be_\bm specified can be a  combination  of  comma  delimited\n",
            "              operating system names.  To include a search of the native oper‐\n",
            "              ating system's manual pages, include the system name m\bma\ban\bn in  the\n",
            "              argument string.  This option will override the $S\bSY\bYS\bST\bTE\bEM\bM environ‐\n",
            "              ment variable.\n",
            "\n",
            "       -\b-M\bM _\bp_\ba_\bt_\bh, -\b--\b-m\bma\ban\bnp\bpa\bat\bth\bh=\b=_\bp_\ba_\bt_\bh\n",
            "              Specify an alternate manpath to use.  By default, m\bma\ban\bn uses  m\bma\ban\bn‐\b‐\n",
            "              p\bpa\bat\bth\bh  derived code to determine the path to search.  This option\n",
            "              overrides the $M\bMA\bAN\bNP\bPA\bAT\bTH\bH environment variable and causes option -\b-m\bm\n",
            "              to be ignored.\n",
            "\n",
            "              A  path specified as a manpath must be the root of a manual page\n",
            "              hierarchy structured into sections as described  in  the  man-db\n",
            "              manual  (under  \"The manual page system\").  To view manual pages\n",
            "              outside such hierarchies, see the -\b-l\bl option.\n",
            "\n",
            "       -\b-S\bS _\bl_\bi_\bs_\bt, -\b-s\bs _\bl_\bi_\bs_\bt, -\b--\b-s\bse\bec\bct\bti\bio\bon\bns\bs=\b=_\bl_\bi_\bs_\bt\n",
            "              List is a colon- or comma-separated  list  of  `order  specific'\n",
            "              manual  sections  to search.  This option overrides the $M\bMA\bAN\bNS\bSE\bEC\bCT\bT\n",
            "              environment variable.  (The -\b-s\bs  spelling  is  for  compatibility\n",
            "              with System V.)\n",
            "\n",
            "       -\b-e\be _\bs_\bu_\bb_\b-_\be_\bx_\bt_\be_\bn_\bs_\bi_\bo_\bn, -\b--\b-e\bex\bxt\bte\ben\bns\bsi\bio\bon\bn=\b=_\bs_\bu_\bb_\b-_\be_\bx_\bt_\be_\bn_\bs_\bi_\bo_\bn\n",
            "              Some systems incorporate large packages of manual pages, such as\n",
            "              those that accompany the T\bTc\bcl\bl package, into the main manual  page\n",
            "              hierarchy.  To get around the problem of having two manual pages\n",
            "              with the same name such as e\bex\bxi\bit\bt(3), the T\bTc\bcl\bl pages  were  usually\n",
            "              all  assigned  to  section l\bl.  As this is unfortunate, it is now\n",
            "              possible to put the pages in the correct section, and to  assign\n",
            "              a specific `extension' to them, in this case, e\bex\bxi\bit\bt(3tcl).  Under\n",
            "              normal operation, m\bma\ban\bn will  display  e\bex\bxi\bit\bt(3)  in  preference  to\n",
            "              e\bex\bxi\bit\bt(3tcl).   To negotiate this situation and to avoid having to\n",
            "              know which section the page you require resides in,  it  is  now\n",
            "              possible  to  give  m\bma\ban\bn  a _\bs_\bu_\bb_\b-_\be_\bx_\bt_\be_\bn_\bs_\bi_\bo_\bn string indicating which\n",
            "              package the page must belong to.  Using the above example,  sup‐\n",
            "              plying  the  option  -\b-e\be t\btc\bcl\bl  to  m\bma\ban\bn will restrict the search to\n",
            "              pages having an extension of *\b*t\btc\bcl\bl.\n",
            "\n",
            "       -\b-i\bi, -\b--\b-i\big\bgn\bno\bor\bre\be-\b-c\bca\bas\bse\be\n",
            "              Ignore case when  searching  for  manual  pages.   This  is  the\n",
            "              default.\n",
            "\n",
            "       -\b-I\bI, -\b--\b-m\bma\bat\btc\bch\bh-\b-c\bca\bas\bse\be\n",
            "              Search for manual pages case-sensitively.\n",
            "\n",
            "       -\b--\b-r\bre\beg\bge\bex\bx\n",
            "              Show  all  pages  with  any  part of either their names or their\n",
            "              descriptions matching each _\bp_\ba_\bg_\be argument as  a  regular  expres‐\n",
            "              sion,  as with a\bap\bpr\bro\bop\bpo\bos\bs(1).  Since there is usually no reasonable\n",
            "              way to pick a \"best\" page when searching for a  regular  expres‐\n",
            "              sion, this option implies -\b-a\ba.\n",
            "\n",
            "       -\b--\b-w\bwi\bil\bld\bdc\bca\bar\brd\bd\n",
            "              Show  all  pages  with  any  part of either their names or their\n",
            "              descriptions matching each _\bp_\ba_\bg_\be argument using shell-style wild‐\n",
            "              cards,  as  with  a\bap\bpr\bro\bop\bpo\bos\bs(1) -\b--\b-w\bwi\bil\bld\bdc\bca\bar\brd\bd.  The _\bp_\ba_\bg_\be argument must\n",
            "              match the entire name or description, or match  on  word  bound‐\n",
            "              aries  in the description.  Since there is usually no reasonable\n",
            "              way to pick a \"best\" page when searching for  a  wildcard,  this\n",
            "              option implies -\b-a\ba.\n",
            "\n",
            "       -\b--\b-n\bna\bam\bme\bes\bs-\b-o\bon\bnl\bly\by\n",
            "              If  the  -\b--\b-r\bre\beg\bge\bex\bx  or  -\b--\b-w\bwi\bil\bld\bdc\bca\bar\brd\bd option is used, match only page\n",
            "              names, not page descriptions, as with w\bwh\bha\bat\bti\bis\bs(1).  Otherwise,  no\n",
            "              effect.\n",
            "\n",
            "       -\b-a\ba, -\b--\b-a\bal\bll\bl\n",
            "              By  default,  m\bma\ban\bn  will  exit after displaying the most suitable\n",
            "              manual page it finds.  Using this option forces m\bma\ban\bn  to  display\n",
            "              all the manual pages with names that match the search criteria.\n",
            "\n",
            "       -\b-u\bu, -\b--\b-u\bup\bpd\bda\bat\bte\be\n",
            "              This  option  causes m\bma\ban\bn to perform an `inode level' consistency\n",
            "              check on its database caches to ensure that they are an accurate\n",
            "              representation  of  the  filesystem.  It will only have a useful\n",
            "              effect if m\bma\ban\bn is installed with the setuid bit set.\n",
            "\n",
            "       -\b--\b-n\bno\bo-\b-s\bsu\bub\bbp\bpa\bag\bge\bes\bs\n",
            "              By default, m\bma\ban\bn will try to interpret pairs of manual page names\n",
            "              given  on the command line as equivalent to a single manual page\n",
            "              name containing a hyphen or an underscore.   This  supports  the\n",
            "              common  pattern  of  programs that implement a number of subcom‐\n",
            "              mands, allowing them to provide manual pages for each  that  can\n",
            "              be  accessed using similar syntax as would be used to invoke the\n",
            "              subcommands themselves.  For example:\n",
            "\n",
            "                $ man -aw git diff\n",
            "                /usr/share/man/man1/git-diff.1.gz\n",
            "\n",
            "              To disable this behaviour, use the -\b--\b-n\bno\bo-\b-s\bsu\bub\bbp\bpa\bag\bge\bes\bs option.\n",
            "\n",
            "                $ man -aw --no-subpages git diff\n",
            "                /usr/share/man/man1/git.1.gz\n",
            "                /usr/share/man/man3/Git.3pm.gz\n",
            "                /usr/share/man/man1/diff.1.gz\n",
            "\n",
            "   C\bCo\bon\bnt\btr\bro\bol\bll\bli\bin\bng\bg f\bfo\bor\brm\bma\bat\btt\bte\bed\bd o\bou\but\btp\bpu\but\bt\n",
            "       -\b-P\bP _\bp_\ba_\bg_\be_\br, -\b--\b-p\bpa\bag\bge\ber\br=\b=_\bp_\ba_\bg_\be_\br\n",
            "              Specify which output pager to use.  By default, m\bma\ban\bn uses  p\bpa\bag\bge\ber\br,\n",
            "              falling  back to c\bca\bat\bt if p\bpa\bag\bge\ber\br is not found or is not executable.\n",
            "              This option overrides the $M\bMA\bAN\bNP\bPA\bAG\bGE\bER\bR environment variable,  which\n",
            "              in  turn  overrides  the $P\bPA\bAG\bGE\bER\bR environment variable.  It is not\n",
            "              used in conjunction with -\b-f\bf or -\b-k\bk.\n",
            "\n",
            "              The value may be a simple command name or a command  with  argu‐\n",
            "              ments, and may use shell quoting (backslashes, single quotes, or\n",
            "              double quotes).  It may not use pipes to connect  multiple  com‐\n",
            "              mands;  if  you  need that, use a wrapper script, which may take\n",
            "              the file to display either as an argument or on standard input.\n",
            "\n",
            "       -\b-r\br _\bp_\br_\bo_\bm_\bp_\bt, -\b--\b-p\bpr\bro\bom\bmp\bpt\bt=\b=_\bp_\br_\bo_\bm_\bp_\bt\n",
            "              If a recent version of l\ble\bes\bss\bs is  used  as  the  pager,  m\bma\ban\bn  will\n",
            "              attempt  to  set  its  prompt  and  some  sensible options.  The\n",
            "              default prompt looks like\n",
            "\n",
            "               M\bMa\ban\bnu\bua\bal\bl p\bpa\bag\bge\be _\bn_\ba_\bm_\be(\b(_\bs_\be_\bc)\b) l\bli\bin\bne\be _\bx\n",
            "\n",
            "              where _\bn_\ba_\bm_\be denotes the manual page name, _\bs_\be_\bc denotes the section\n",
            "              it  was  found  under  and  _\bx  the current line number.  This is\n",
            "              achieved by using the $L\bLE\bES\bSS\bS environment variable.\n",
            "\n",
            "              Supplying -\b-r\br with a string  will  override  this  default.   The\n",
            "              string  may  contain  the text $\b$M\bMA\bAN\bN_\b_P\bPN\bN which will be expanded to\n",
            "              the name of the current manual page and its  section  name  sur‐\n",
            "              rounded  by `(' and `)'.  The string used to produce the default\n",
            "              could be expressed as\n",
            "\n",
            "              \\\b\\ M\bMa\ban\bnu\bua\bal\bl\\\b\\ p\bpa\bag\bge\be\\\b\\ \\\b\\$\b$M\bMA\bAN\bN_\b_P\bPN\bN\\\b\\ ?\b?l\blt\btl\bli\bin\bne\be\\\b\\ %\b%l\blt\bt?\b?L\bL/\b/%\b%L\bL.\b.:\b:\n",
            "              b\bby\byt\bte\be\\\b\\ %\b%b\bbB\bB?\b?s\bs/\b/%\b%s\bs.\b..\b.?\b?\\\b\\ (\b(E\bEN\bND\bD)\b):\b:?\b?p\bpB\bB\\\b\\ %\b%p\bpB\bB\\\b\\\\\b\\%\b%.\b..\b.\n",
            "              (\b(p\bpr\bre\bes\bss\bs h\bh f\bfo\bor\br h\bhe\bel\blp\bp o\bor\br q\bq t\bto\bo q\bqu\bui\bit\bt)\b)\n",
            "\n",
            "              It is broken into three lines here for the sake  of  readability\n",
            "              only.   For its meaning see the l\ble\bes\bss\bs(1) manual page.  The prompt\n",
            "              string is first evaluated by  the  shell.   All  double  quotes,\n",
            "              back-quotes  and  backslashes in the prompt must be escaped by a\n",
            "              preceding backslash.  The prompt string may end in an escaped  $\n",
            "              which  may  be followed by further options for less.  By default\n",
            "              m\bma\ban\bn sets the -\b-i\bix\bx8\b8 options.\n",
            "\n",
            "              The $M\bMA\bAN\bNL\bLE\bES\bSS\bS environment variable described below may be used to\n",
            "              set  a  default prompt string if none is supplied on the command\n",
            "              line.\n",
            "\n",
            "       -\b-7\b7, -\b--\b-a\bas\bsc\bci\bii\bi\n",
            "              When viewing a pure _\ba_\bs_\bc_\bi_\bi(7) manual page on a 7 bit terminal  or\n",
            "              terminal  emulator,  some  characters  may not display correctly\n",
            "              when using the _\bl_\ba_\bt_\bi_\bn_\b1(7)  device  description  with  G\bGN\bNU\bU  n\bnr\bro\bof\bff\bf.\n",
            "              This  option  allows  pure _\ba_\bs_\bc_\bi_\bi manual pages to be displayed in\n",
            "              _\ba_\bs_\bc_\bi_\bi with the _\bl_\ba_\bt_\bi_\bn_\b1 device.  It will not translate any  _\bl_\ba_\bt_\bi_\bn_\b1\n",
            "              text.   The  following  table  shows the translations performed:\n",
            "              some parts of it may only be displayed properly when  using  G\bGN\bNU\bU\n",
            "              n\bnr\bro\bof\bff\bf's _\bl_\ba_\bt_\bi_\bn_\b1(7) device.\n",
            "\n",
            "              Description      Octal   latin1   ascii\n",
            "              ────────────────────────────────────────\n",
            "              continuation      255      ‐        -\n",
            "              hyphen\n",
            "              bullet (middle    267      ·        o\n",
            "              dot)\n",
            "              acute accent      264      ´        '\n",
            "              multiplication    327      ×        x\n",
            "              sign\n",
            "\n",
            "              If the _\bl_\ba_\bt_\bi_\bn_\b1 column displays correctly, your  terminal  may  be\n",
            "              set  up  for _\bl_\ba_\bt_\bi_\bn_\b1 characters and this option is not necessary.\n",
            "              If the _\bl_\ba_\bt_\bi_\bn_\b1 and _\ba_\bs_\bc_\bi_\bi columns are identical, you  are  reading\n",
            "              this  page  using  this  option  or m\bma\ban\bn did not format this page\n",
            "              using the _\bl_\ba_\bt_\bi_\bn_\b1 device description.  If the  _\bl_\ba_\bt_\bi_\bn_\b1  column  is\n",
            "              missing  or corrupt, you may need to view manual pages with this\n",
            "              option.\n",
            "\n",
            "              This option is ignored when using options -\b-t\bt, -\b-H\bH, -\b-T\bT, or -\b-Z\bZ  and\n",
            "              may be useless for n\bnr\bro\bof\bff\bf other than G\bGN\bNU\bU'\b's\bs.\n",
            "\n",
            "       -\b-E\bE _\be_\bn_\bc_\bo_\bd_\bi_\bn_\bg, -\b--\b-e\ben\bnc\bco\bod\bdi\bin\bng\bg=_\be_\bn_\bc_\bo_\bd_\bi_\bn_\bg\n",
            "              Generate output for a character encoding other than the default.\n",
            "              For backward compatibility, _\be_\bn_\bc_\bo_\bd_\bi_\bn_\bg may be an n\bnr\bro\bof\bff\bf device such\n",
            "              as  a\bas\bsc\bci\bii\bi,  l\bla\bat\bti\bin\bn1\b1, or u\but\btf\bf8\b8 as well as a true character encoding\n",
            "              such as U\bUT\bTF\bF-\b-8\b8.\n",
            "\n",
            "       -\b--\b-n\bno\bo-\b-h\bhy\byp\bph\bhe\ben\bna\bat\bti\bio\bon\bn, -\b--\b-n\bnh\bh\n",
            "              Normally, n\bnr\bro\bof\bff\bf will automatically hyphenate text at line breaks\n",
            "              even in words that do not contain hyphens, if it is necessary to\n",
            "              do so to lay out words on  a  line  without  excessive  spacing.\n",
            "              This  option  disables automatic hyphenation, so words will only\n",
            "              be hyphenated if they already contain hyphens.\n",
            "\n",
            "              If you are writing a manual page  and  simply  want  to  prevent\n",
            "              n\bnr\bro\bof\bff\bf  from hyphenating a word at an inappropriate point, do not\n",
            "              use this option, but consult the  n\bnr\bro\bof\bff\bf  documentation  instead;\n",
            "              for instance, you can put \"\\%\" inside a word to indicate that it\n",
            "              may be hyphenated at that point, or put \"\\%\" at the start  of  a\n",
            "              word to prevent it from being hyphenated.\n",
            "\n",
            "       -\b--\b-n\bno\bo-\b-j\bju\bus\bst\bti\bif\bfi\bic\bca\bat\bti\bio\bon\bn, -\b--\b-n\bnj\bj\n",
            "              Normally, n\bnr\bro\bof\bff\bf will automatically justify text to both margins.\n",
            "              This option disables full justification, leaving justified  only\n",
            "              to the left margin, sometimes called \"ragged-right\" text.\n",
            "\n",
            "              If  you  are  writing  a  manual page and simply want to prevent\n",
            "              n\bnr\bro\bof\bff\bf from  justifying  certain  paragraphs,  do  not  use  this\n",
            "              option,   but  consult  the  n\bnr\bro\bof\bff\bf  documentation  instead;  for\n",
            "              instance, you  can  use  the  \".na\",  \".nf\",  \".fi\",  and  \".ad\"\n",
            "              requests to temporarily disable adjusting and filling.\n",
            "\n",
            "       -\b-p\bp _\bs_\bt_\br_\bi_\bn_\bg, -\b--\b-p\bpr\bre\bep\bpr\bro\boc\bce\bes\bss\bso\bor\br=\b=_\bs_\bt_\br_\bi_\bn_\bg\n",
            "              Specify  the  sequence  of  preprocessors to run before n\bnr\bro\bof\bff\bf or\n",
            "              t\btr\bro\bof\bff\bf/g\bgr\bro\bof\bff\bf.  Not all installations will have a full set of pre‐\n",
            "              processors.   Some  of the preprocessors and the letters used to\n",
            "              designate them are: e\beq\bqn\bn (e\be), g\bgr\bra\bap\bp (g\bg), p\bpi\bic\bc (p\bp), t\btb\bbl\bl (t\bt),  v\bvg\bgr\bri\bin\bnd\bd\n",
            "              (v\bv),  r\bre\bef\bfe\ber\br (r\br).  This option overrides the $M\bMA\bAN\bNR\bRO\bOF\bFF\bFS\bSE\bEQ\bQ environ‐\n",
            "              ment variable.  z\bzs\bso\boe\bel\bli\bim\bm is always run as  the  very  first  pre‐\n",
            "              processor.\n",
            "\n",
            "       -\b-t\bt, -\b--\b-t\btr\bro\bof\bff\bf\n",
            "              Use  _\bg_\br_\bo_\bf_\bf  _\b-_\bm_\ba_\bn_\bd_\bo_\bc  to  format the manual page to stdout.  This\n",
            "              option is not required in conjunction with -\b-H\bH, -\b-T\bT, or -\b-Z\bZ.\n",
            "\n",
            "       -\b-T\bT[_\bd_\be_\bv_\bi_\bc_\be], -\b--\b-t\btr\bro\bof\bff\bf-\b-d\bde\bev\bvi\bic\bce\be[=_\bd_\be_\bv_\bi_\bc_\be]\n",
            "              This option is used to change g\bgr\bro\bof\bff\bf (or possibly t\btr\bro\bof\bff\bf'\b's\bs) output\n",
            "              to  be suitable for a device other than the default.  It implies\n",
            "              -\b-t\bt.  Examples (provided with Groff-1.17)  include  d\bdv\bvi\bi,  l\bla\bat\bti\bin\bn1\b1,\n",
            "              p\bps\bs, u\but\btf\bf8\b8, X\bX7\b75\b5 and X\bX1\b10\b00\b0.\n",
            "\n",
            "       -\b-H\bH[_\bb_\br_\bo_\bw_\bs_\be_\br], -\b--\b-h\bht\btm\bml\bl[=_\bb_\br_\bo_\bw_\bs_\be_\br]\n",
            "              This  option  will  cause g\bgr\bro\bof\bff\bf to produce HTML output, and will\n",
            "              display that output in a web browser.  The choice of browser  is\n",
            "              determined  by the optional _\bb_\br_\bo_\bw_\bs_\be_\br argument if one is provided,\n",
            "              by the $B\bBR\bRO\bOW\bWS\bSE\bER\bR  environment  variable,  or  by  a  compile-time\n",
            "              default  if  that  is unset (usually l\bly\byn\bnx\bx).  This option implies\n",
            "              -\b-t\bt, and will only work with G\bGN\bNU\bU t\btr\bro\bof\bff\bf.\n",
            "\n",
            "       -\b-X\bX[_\bd_\bp_\bi], -\b--\b-g\bgx\bxd\bdi\bit\btv\bvi\bie\bew\bw[=_\bd_\bp_\bi]\n",
            "              This option displays the output of g\bgr\bro\bof\bff\bf in a  graphical  window\n",
            "              using the g\bgx\bxd\bdi\bit\btv\bvi\bie\bew\bw program.  The _\bd_\bp_\bi (dots per inch) may be 75,\n",
            "              75-12, 100, or 100-12, defaulting to 75; the -12 variants use  a\n",
            "              12-point  base  font.   This  option  implies  -\b-T\bT  with the X75,\n",
            "              X75-12, X100, or X100-12 device respectively.\n",
            "\n",
            "       -\b-Z\bZ, -\b--\b-d\bdi\bit\btr\bro\bof\bff\bf\n",
            "              g\bgr\bro\bof\bff\bf will run t\btr\bro\bof\bff\bf and then use an appropriate  post-processor\n",
            "              to  produce  output  suitable  for  the chosen device.  If _\bg_\br_\bo_\bf_\bf\n",
            "              _\b-_\bm_\ba_\bn_\bd_\bo_\bc is g\bgr\bro\bof\bff\bf, this option is passed to g\bgr\bro\bof\bff\bf and  will  sup‐\n",
            "              press the use of a post-processor.  It implies -\b-t\bt.\n",
            "\n",
            "   G\bGe\bet\btt\bti\bin\bng\bg h\bhe\bel\blp\bp\n",
            "       -\b-?\b?, -\b--\b-h\bhe\bel\blp\bp\n",
            "              Print a help message and exit.\n",
            "\n",
            "       -\b--\b-u\bus\bsa\bag\bge\be\n",
            "              Print a short usage message and exit.\n",
            "\n",
            "       -\b-V\bV, -\b--\b-v\bve\ber\brs\bsi\bio\bon\bn\n",
            "              Display version information.\n",
            "\n",
            "E\bEX\bXI\bIT\bT S\bST\bTA\bAT\bTU\bUS\bS\n",
            "       0\b0      Successful program execution.\n",
            "\n",
            "       1\b1      Usage, syntax or configuration file error.\n",
            "\n",
            "       2\b2      Operational error.\n",
            "\n",
            "       3\b3      A child process returned a non-zero exit status.\n",
            "\n",
            "       1\b16\b6     At  least one of the pages/files/keywords didn't exist or wasn't\n",
            "              matched.\n",
            "\n",
            "E\bEN\bNV\bVI\bIR\bRO\bON\bNM\bME\bEN\bNT\bT\n",
            "       M\bMA\bAN\bNP\bPA\bAT\bTH\bH\n",
            "              If $M\bMA\bAN\bNP\bPA\bAT\bTH\bH is set, its value is used as the path to search  for\n",
            "              manual pages.\n",
            "\n",
            "       M\bMA\bAN\bNR\bRO\bOF\bFF\bFO\bOP\bPT\bT\n",
            "              The  contents of $M\bMA\bAN\bNR\bRO\bOF\bFF\bFO\bOP\bPT\bT are added to the command line every\n",
            "              time m\bma\ban\bn invokes the formatter (n\bnr\bro\bof\bff\bf, t\btr\bro\bof\bff\bf, or g\bgr\bro\bof\bff\bf).\n",
            "\n",
            "       M\bMA\bAN\bNR\bRO\bOF\bFF\bFS\bSE\bEQ\bQ\n",
            "              If $M\bMA\bAN\bNR\bRO\bOF\bFF\bFS\bSE\bEQ\bQ is set, its value is used to determine the set of\n",
            "              preprocessors  to  pass  each  manual page through.  The default\n",
            "              preprocessor list is system dependent.\n",
            "\n",
            "       M\bMA\bAN\bNS\bSE\bEC\bCT\bT\n",
            "              If $M\bMA\bAN\bNS\bSE\bEC\bCT\bT is set, its value is a colon-delimited list of  sec‐\n",
            "              tions  and  it  is  used  to  determine which manual sections to\n",
            "              search and in what order.  The default is \"1 n l 8  3  2  3posix\n",
            "              3pm  3perl  3am  5  4  9  6 7\", unless overridden by the S\bSE\bEC\bCT\bTI\bIO\bON\bN\n",
            "              directive in _\b/_\be_\bt_\bc_\b/_\bm_\ba_\bn_\bp_\ba_\bt_\bh_\b._\bc_\bo_\bn_\bf_\bi_\bg.\n",
            "\n",
            "       M\bMA\bAN\bNP\bPA\bAG\bGE\bER\bR, P\bPA\bAG\bGE\bER\bR\n",
            "              If $M\bMA\bAN\bNP\bPA\bAG\bGE\bER\bR or $P\bPA\bAG\bGE\bER\bR is set ($M\bMA\bAN\bNP\bPA\bAG\bGE\bER\bR is used in preference),\n",
            "              its value is used as the name of the program used to display the\n",
            "              manual page.  By default, p\bpa\bag\bge\ber\br is used, falling back to c\bca\bat\bt  if\n",
            "              p\bpa\bag\bge\ber\br is not found or is not executable.\n",
            "\n",
            "              The  value  may be a simple command name or a command with argu‐\n",
            "              ments, and may use shell quoting (backslashes, single quotes, or\n",
            "              double  quotes).   It may not use pipes to connect multiple com‐\n",
            "              mands; if you need that, use a wrapper script,  which  may  take\n",
            "              the file to display either as an argument or on standard input.\n",
            "\n",
            "       M\bMA\bAN\bNL\bLE\bES\bSS\bS\n",
            "              If $M\bMA\bAN\bNL\bLE\bES\bSS\bS is set, its value will be used as the default prompt\n",
            "              string for the l\ble\bes\bss\bs pager, as if it had been passed using the -\b-r\br\n",
            "              option  (so any occurrences of the text $\b$M\bMA\bAN\bN_\b_P\bPN\bN will be expanded\n",
            "              in the same way).  For example, if you want to  set  the  prompt\n",
            "              string  unconditionally  to  “my prompt string”, set $M\bMA\bAN\bNL\bLE\bES\bSS\bS to\n",
            "              ‘-\b-P\bPs\bsm\bmy\by p\bpr\bro\bom\bmp\bpt\bt s\bst\btr\bri\bin\bng\bg’.  Using the -\b-r\br option overrides this envi‐\n",
            "              ronment variable.\n",
            "\n",
            "       B\bBR\bRO\bOW\bWS\bSE\bER\bR\n",
            "              If  $B\bBR\bRO\bOW\bWS\bSE\bER\bR is set, its value is a colon-delimited list of com‐\n",
            "              mands, each of which in turn is used  to  try  to  start  a  web\n",
            "              browser  for  m\bma\ban\bn  -\b--\b-h\bht\btm\bml\bl.  In each command, _\b%_\bs is replaced by a\n",
            "              filename containing the HTML output from g\bgr\bro\bof\bff\bf, _\b%_\b%  is  replaced\n",
            "              by a single percent sign (%), and _\b%_\bc is replaced by a colon (:).\n",
            "\n",
            "       S\bSY\bYS\bST\bTE\bEM\bM If  $S\bSY\bYS\bST\bTE\bEM\bM  is  set,  it will have the same effect as if it had\n",
            "              been specified as the argument to the -\b-m\bm option.\n",
            "\n",
            "       M\bMA\bAN\bNO\bOP\bPT\bT If $M\bMA\bAN\bNO\bOP\bPT\bT is set, it will be parsed prior to m\bma\ban\bn'\b's\bs command line\n",
            "              and  is expected to be in a similar format.  As all of the other\n",
            "              m\bma\ban\bn specific environment variables can be expressed  as  command\n",
            "              line  options,  and  are  thus  candidates for being included in\n",
            "              $M\bMA\bAN\bNO\bOP\bPT\bT it is expected that they  will  become  obsolete.   N.B.\n",
            "              All  spaces  that  should  be interpreted as part of an option's\n",
            "              argument must be escaped.\n",
            "\n",
            "       M\bMA\bAN\bNW\bWI\bID\bDT\bTH\bH\n",
            "              If $M\bMA\bAN\bNW\bWI\bID\bDT\bTH\bH is set, its value is used as the  line  length  for\n",
            "              which  manual pages should be formatted.  If it is not set, man‐\n",
            "              ual pages will be formatted with a line  length  appropriate  to\n",
            "              the  current  terminal (using the value of $C\bCO\bOL\bLU\bUM\bMN\bNS\bS, an i\bio\boc\bct\btl\bl(2)\n",
            "              if available, or falling back to 80  characters  if  neither  is\n",
            "              available).   Cat pages will only be saved when the default for‐\n",
            "              matting can be used, that is when the terminal  line  length  is\n",
            "              between 66 and 80 characters.\n",
            "\n",
            "       M\bMA\bAN\bN_\b_K\bKE\bEE\bEP\bP_\b_F\bFO\bOR\bRM\bMA\bAT\bTT\bTI\bIN\bNG\bG\n",
            "              Normally,  when output is not being directed to a terminal (such\n",
            "              as to a file or a pipe), formatting characters are discarded  to\n",
            "              make  it  easier to read the result without special tools.  How‐\n",
            "              ever, if $M\bMA\bAN\bN_\b_K\bKE\bEE\bEP\bP_\b_F\bFO\bOR\bRM\bMA\bAT\bTT\bTI\bIN\bNG\bG is set  to  any  non-empty  value,\n",
            "              these  formatting  characters  are retained.  This may be useful\n",
            "              for wrappers around m\bma\ban\bn that can  interpret  formatting  charac‐\n",
            "              ters.\n",
            "\n",
            "       M\bMA\bAN\bN_\b_K\bKE\bEE\bEP\bP_\b_S\bST\bTD\bDE\bER\bRR\bR\n",
            "              Normally,  when  output is being directed to a terminal (usually\n",
            "              to a pager), any error output from the command used  to  produce\n",
            "              formatted  versions of manual pages is discarded to avoid inter‐\n",
            "              fering with the pager's display.  Programs such as  g\bgr\bro\bof\bff\bf  often\n",
            "              produce  relatively  minor  error  messages  about typographical\n",
            "              problems such as poor alignment, which are unsightly and  gener‐\n",
            "              ally  confusing when displayed along with the manual page.  How‐\n",
            "              ever,  some  users   want   to   see   them   anyway,   so,   if\n",
            "              $M\bMA\bAN\bN_\b_K\bKE\bEE\bEP\bP_\b_S\bST\bTD\bDE\bER\bRR\bR  is  set  to  any non-empty value, error output\n",
            "              will be displayed as usual.\n",
            "\n",
            "       L\bLA\bAN\bNG\bG, L\bLC\bC_\b_M\bME\bES\bSS\bSA\bAG\bGE\bES\bS\n",
            "              Depending on system and implementation, either or both of  $L\bLA\bAN\bNG\bG\n",
            "              and  $L\bLC\bC_\b_M\bME\bES\bSS\bSA\bAG\bGE\bES\bS  will  be interrogated for the current message\n",
            "              locale.  m\bma\ban\bn will display its messages in that locale (if avail‐\n",
            "              able).  See s\bse\bet\btl\blo\boc\bca\bal\ble\be(3) for precise details.\n",
            "\n",
            "F\bFI\bIL\bLE\bES\bS\n",
            "       _\b/_\be_\bt_\bc_\b/_\bm_\ba_\bn_\bp_\ba_\bt_\bh_\b._\bc_\bo_\bn_\bf_\bi_\bg\n",
            "              man-db configuration file.\n",
            "\n",
            "       _\b/_\bu_\bs_\br_\b/_\bs_\bh_\ba_\br_\be_\b/_\bm_\ba_\bn\n",
            "              A global manual page hierarchy.\n",
            "\n",
            "       _\b/_\bu_\bs_\br_\b/_\bs_\bh_\ba_\br_\be_\b/_\bm_\ba_\bn_\b/_\bi_\bn_\bd_\be_\bx_\b._\b(_\bb_\bt_\b|_\bd_\bb_\b|_\bd_\bi_\br_\b|_\bp_\ba_\bg_\b)\n",
            "              A traditional global _\bi_\bn_\bd_\be_\bx database cache.\n",
            "\n",
            "       _\b/_\bv_\ba_\br_\b/_\bc_\ba_\bc_\bh_\be_\b/_\bm_\ba_\bn_\b/_\bi_\bn_\bd_\be_\bx_\b._\b(_\bb_\bt_\b|_\bd_\bb_\b|_\bd_\bi_\br_\b|_\bp_\ba_\bg_\b)\n",
            "              An FHS compliant global _\bi_\bn_\bd_\be_\bx database cache.\n",
            "\n",
            "S\bSE\bEE\bE A\bAL\bLS\bSO\bO\n",
            "       a\bap\bpr\bro\bop\bpo\bos\bs(1),   g\bgr\bro\bof\bff\bf(1),   l\ble\bes\bss\bs(1),   m\bma\ban\bnp\bpa\bat\bth\bh(1),   n\bnr\bro\bof\bff\bf(1),  t\btr\bro\bof\bff\bf(1),\n",
            "       w\bwh\bha\bat\bti\bis\bs(1), z\bzs\bso\boe\bel\bli\bim\bm(1), s\bse\bet\btl\blo\boc\bca\bal\ble\be(3), m\bma\ban\bnp\bpa\bat\bth\bh(5),  a\bas\bsc\bci\bii\bi(7),  l\bla\bat\bti\bin\bn1\b1(7),\n",
            "       m\bma\ban\bn(7), c\bca\bat\btm\bma\ban\bn(8), m\bma\ban\bnd\bdb\bb(8), the man-db package manual, F\bFS\bSS\bST\bTN\bND\bD\n",
            "\n",
            "H\bHI\bIS\bST\bTO\bOR\bRY\bY\n",
            "       1990, 1991 – Originally written by John W. Eaton (jwe@che.utexas.edu).\n",
            "\n",
            "       Dec 23 1992: Rik Faith (faith@cs.unc.edu) applied bug fixes supplied by\n",
            "       Willem Kasdorp (wkasdo@nikhefk.nikef.nl).\n",
            "\n",
            "       30th April 1994 – 23rd February 2000: Wilf. (G.Wilford@ee.surrey.ac.uk)\n",
            "       has been developing and maintaining this package with the help of a few\n",
            "       dedicated people.\n",
            "\n",
            "       30th  October  1996  –  30th  March  2001:   Fabrizio   Polacco   <fpo‐\n",
            "       lacco@debian.org>  maintained  and enhanced this package for the Debian\n",
            "       project, with the help of all the community.\n",
            "\n",
            "       31st March 2001 – present day: Colin  Watson  <cjwatson@debian.org>  is\n",
            "       now developing and maintaining man-db.\n",
            "\n",
            "2.8.3                             2018-04-05                            MAN(1)\n"
          ]
        }
      ]
    },
    {
      "cell_type": "markdown",
      "metadata": {
        "id": "kxDbo6c1pDik"
      },
      "source": [
        "Para información más concreta y resumida, podemos utilizar el comando **`whatis`**. Este funciona de manera similar y lista descripciones cortas del funcionamiento del programa:"
      ]
    },
    {
      "cell_type": "code",
      "metadata": {
        "colab": {
          "base_uri": "https://localhost:8080/"
        },
        "id": "8p_Dtoann1sC",
        "outputId": "dc04cae4-6a89-40ac-91bc-53fa2a363692"
      },
      "source": [
        "# Descripción corta del comando 'man'\n",
        "!whatis man"
      ],
      "execution_count": null,
      "outputs": [
        {
          "output_type": "stream",
          "name": "stdout",
          "text": [
            "man (1)              - an interface to the on-line reference manuals\n",
            "man (1posix)         - display system documentation\n",
            "man (7)              - macros to format man pages\n"
          ]
        }
      ]
    },
    {
      "cell_type": "markdown",
      "metadata": {
        "id": "Qi6oEm_Tptv1"
      },
      "source": [
        "Además, si queremos consultar el manual en busca de utilidades concretas, podemos utilizar el comando **`apropos`**, que realiza una búsqueda en los nombres y descripciones de las páginas del manual:"
      ]
    },
    {
      "cell_type": "code",
      "metadata": {
        "colab": {
          "base_uri": "https://localhost:8080/"
        },
        "id": "BcBEdhUPT5OB",
        "outputId": "abdd7c95-7048-4214-e2c8-4223dbb11ae4"
      },
      "source": [
        "# Comandos con 'reboot' en su nombre o descripción.\n",
        "!apropos reboot"
      ],
      "execution_count": null,
      "outputs": [
        {
          "output_type": "stream",
          "name": "stdout",
          "text": [
            "halt (8)             - Halt, power-off or reboot the machine\n",
            "poweroff (8)         - Halt, power-off or reboot the machine\n",
            "reboot (2)           - reboot or enable/disable Ctrl-Alt-Del\n",
            "reboot (8)           - Halt, power-off or reboot the machine\n",
            "shutdown (8)         - Halt, power-off or reboot the machine\n",
            "systemd-reboot.service (8) - System shutdown logic\n"
          ]
        }
      ]
    },
    {
      "cell_type": "markdown",
      "metadata": {
        "id": "FBPYvksEr1sg"
      },
      "source": [
        "## **3. Sistema operativo y hardware**\n",
        "---\n",
        "El servicio **`Google Colaboratory`** maneja el entorno de ejecución por medio de máquinas virtuales con un sistema operativo _Ubuntu_. Los comandos que se ejecuten y pasen al sistema operativo se ejecutarán en esta máquina, que tiene unos recursos de procesamiento y memoria específicos.\n",
        "\n",
        "En primer lugar, vamos a conocer la versión del sistema operativo con la instrucción **`uname`**:\n",
        "\n",
        "> Esta información puede variar de acuerdo a la máquina asignada por _Colab_ para su sesión actual.\n"
      ]
    },
    {
      "cell_type": "code",
      "metadata": {
        "colab": {
          "base_uri": "https://localhost:8080/"
        },
        "id": "LQd8sKFwuHsR",
        "outputId": "84e9aaaa-3027-4acd-b84b-9a098576e0c4"
      },
      "source": [
        "!sudo uname -a"
      ],
      "execution_count": null,
      "outputs": [
        {
          "output_type": "stream",
          "name": "stdout",
          "text": [
            "Linux faa87e1ab7dd 5.4.104+ #1 SMP Sat Jun 5 09:50:34 PDT 2021 x86_64 x86_64 x86_64 GNU/Linux\n"
          ]
        }
      ]
    },
    {
      "cell_type": "markdown",
      "metadata": {
        "id": "s6WYKQ_fuPKG"
      },
      "source": [
        "Otra forma de conocer la versión y detalles del sistema es inspeccionando el contenido del archivo **`/etc/release`**. \n",
        "> **Nota:** En la sección siguiente se explorará el sistema de directorios y archivos, y se retomará el comando **`cat`**."
      ]
    },
    {
      "cell_type": "code",
      "metadata": {
        "colab": {
          "base_uri": "https://localhost:8080/"
        },
        "id": "ighGB2XJsAU0",
        "outputId": "90aeb6e7-20fc-445a-9a89-08f3ce25df09"
      },
      "source": [
        "!cat /etc/os-release"
      ],
      "execution_count": null,
      "outputs": [
        {
          "name": "stdout",
          "output_type": "stream",
          "text": [
            "NAME=\"Ubuntu\"\n",
            "VERSION=\"18.04.5 LTS (Bionic Beaver)\"\n",
            "ID=ubuntu\n",
            "ID_LIKE=debian\n",
            "PRETTY_NAME=\"Ubuntu 18.04.5 LTS\"\n",
            "VERSION_ID=\"18.04\"\n",
            "HOME_URL=\"https://www.ubuntu.com/\"\n",
            "SUPPORT_URL=\"https://help.ubuntu.com/\"\n",
            "BUG_REPORT_URL=\"https://bugs.launchpad.net/ubuntu/\"\n",
            "PRIVACY_POLICY_URL=\"https://www.ubuntu.com/legal/terms-and-policies/privacy-policy\"\n",
            "VERSION_CODENAME=bionic\n",
            "UBUNTU_CODENAME=bionic\n"
          ]
        }
      ]
    },
    {
      "cell_type": "markdown",
      "metadata": {
        "id": "EPglFZuKu08c"
      },
      "source": [
        "Por otra parte, si deseamos obtener información del hardware específico sobre el cual se ejecuta el sistema podemos utilizar los siguientes comandos:\n",
        "\n",
        "* **`lscpu`**: información de la arquitectura del procesador."
      ]
    },
    {
      "cell_type": "code",
      "metadata": {
        "colab": {
          "base_uri": "https://localhost:8080/"
        },
        "id": "rIsDGH5Mu-za",
        "outputId": "5c07c188-d532-498b-87ab-d5cd762abd09"
      },
      "source": [
        "!lscpu"
      ],
      "execution_count": null,
      "outputs": [
        {
          "output_type": "stream",
          "name": "stdout",
          "text": [
            "Architecture:        x86_64\n",
            "CPU op-mode(s):      32-bit, 64-bit\n",
            "Byte Order:          Little Endian\n",
            "CPU(s):              2\n",
            "On-line CPU(s) list: 0,1\n",
            "Thread(s) per core:  2\n",
            "Core(s) per socket:  1\n",
            "Socket(s):           1\n",
            "NUMA node(s):        1\n",
            "Vendor ID:           GenuineIntel\n",
            "CPU family:          6\n",
            "Model:               79\n",
            "Model name:          Intel(R) Xeon(R) CPU @ 2.20GHz\n",
            "Stepping:            0\n",
            "CPU MHz:             2199.998\n",
            "BogoMIPS:            4399.99\n",
            "Hypervisor vendor:   KVM\n",
            "Virtualization type: full\n",
            "L1d cache:           32K\n",
            "L1i cache:           32K\n",
            "L2 cache:            256K\n",
            "L3 cache:            56320K\n",
            "NUMA node0 CPU(s):   0,1\n",
            "Flags:               fpu vme de pse tsc msr pae mce cx8 apic sep mtrr pge mca cmov pat pse36 clflush mmx fxsr sse sse2 ss ht syscall nx pdpe1gb rdtscp lm constant_tsc rep_good nopl xtopology nonstop_tsc cpuid tsc_known_freq pni pclmulqdq ssse3 fma cx16 pcid sse4_1 sse4_2 x2apic movbe popcnt aes xsave avx f16c rdrand hypervisor lahf_lm abm 3dnowprefetch invpcid_single ssbd ibrs ibpb stibp fsgsbase tsc_adjust bmi1 hle avx2 smep bmi2 erms invpcid rtm rdseed adx smap xsaveopt arat md_clear arch_capabilities\n"
          ]
        }
      ]
    },
    {
      "cell_type": "markdown",
      "metadata": {
        "id": "r2AoYfwYvLiG"
      },
      "source": [
        "* **`df`**: espacio de disco del sistema de archivos. La opción **`-h`** dispone la información en un formato más comprensible."
      ]
    },
    {
      "cell_type": "code",
      "metadata": {
        "colab": {
          "base_uri": "https://localhost:8080/"
        },
        "id": "VGHWlbEtvW3r",
        "outputId": "edbe4715-5f2e-4725-812a-5cda447003fc"
      },
      "source": [
        "!df -h"
      ],
      "execution_count": null,
      "outputs": [
        {
          "output_type": "stream",
          "name": "stdout",
          "text": [
            "Filesystem      Size  Used Avail Use% Mounted on\n",
            "overlay         108G   48G   61G  44% /\n",
            "tmpfs            64M     0   64M   0% /dev\n",
            "tmpfs           6.4G     0  6.4G   0% /sys/fs/cgroup\n",
            "shm             5.8G     0  5.8G   0% /dev/shm\n",
            "/dev/root       2.0G  1.2G  821M  59% /sbin/docker-init\n",
            "tmpfs           6.4G   36K  6.4G   1% /var/colab\n",
            "/dev/sda1        81G   51G   30G  64% /etc/hosts\n",
            "tmpfs           6.4G     0  6.4G   0% /proc/acpi\n",
            "tmpfs           6.4G     0  6.4G   0% /proc/scsi\n",
            "tmpfs           6.4G     0  6.4G   0% /sys/firmware\n"
          ]
        }
      ]
    },
    {
      "cell_type": "markdown",
      "metadata": {
        "id": "e-CSNTDfvwmp"
      },
      "source": [
        "* **`free`**: cantidad de memoria RAM disponible."
      ]
    },
    {
      "cell_type": "code",
      "metadata": {
        "colab": {
          "base_uri": "https://localhost:8080/"
        },
        "id": "hTWLac4uvvI4",
        "outputId": "c105e50c-b4ca-410f-ee07-189945fd14dc"
      },
      "source": [
        "!free -h"
      ],
      "execution_count": null,
      "outputs": [
        {
          "output_type": "stream",
          "name": "stdout",
          "text": [
            "              total        used        free      shared  buff/cache   available\n",
            "Mem:            12G        539M        8.2G        1.1M        3.9G         11G\n",
            "Swap:            0B          0B          0B\n"
          ]
        }
      ]
    },
    {
      "cell_type": "markdown",
      "metadata": {
        "id": "RYqd7cWmK9UL"
      },
      "source": [
        "## **4. Sistema de archivos**\n",
        "---\n",
        "\n",
        "Los sistemas basados en UNIX comparten el concepto de sistema de archivos, donde la información se almacena en elementos llamados archivos, dispuestos y contenidos en directorios que pueden contener a su vez más directorios. Esto genera una estructura de árbol que permite organizar la información a partir de un directorio raíz.\n",
        "\n",
        "En cada momento previo a la ejecución de un comando, el sistema apunta a un directorio específico en donde se realizarán las acciones indicadas por el usuario. Este directorio se conoce como el _working directory_ y se puede conocer con el comando **`pwd`**:\n"
      ]
    },
    {
      "cell_type": "code",
      "metadata": {
        "colab": {
          "base_uri": "https://localhost:8080/"
        },
        "id": "dtiNxBTZzaet",
        "outputId": "1071228a-7b13-45dd-e7df-ff3573b97580"
      },
      "source": [
        "# Imprimimos el 'working directory'.\n",
        "!pwd"
      ],
      "execution_count": null,
      "outputs": [
        {
          "output_type": "stream",
          "name": "stdout",
          "text": [
            "/content\n"
          ]
        }
      ]
    },
    {
      "cell_type": "markdown",
      "metadata": {
        "id": "p9kWBo6L0LuZ"
      },
      "source": [
        "Si realizó este comando desde _Google Colab_ debió encontrar el siguiente resultado:\n",
        "\n",
        "```\n",
        "/content\n",
        "```\n",
        "\n",
        "Esta sintaxis nos indica que el _shell_ está ubicado en el directorio **`content`**, ubicado dentro del directorio raíz (**`'/'`**). Como se mencionó antes, es posible que este directorio ya contenga algún archivo o directorio en su interior.\n",
        "\n",
        "Para consultar el contenido de un directorio, podemos usar el comando **`ls`** (la opción **`-p`** permite distinguir entre archivos y directorios):"
      ]
    },
    {
      "cell_type": "code",
      "metadata": {
        "colab": {
          "base_uri": "https://localhost:8080/"
        },
        "id": "yk1ue46u0IWh",
        "outputId": "f5e6e043-0eb2-4903-85e8-a70d7541d57b"
      },
      "source": [
        "# Lista de archivos y directorios de directorio actual:\n",
        "!ls -p"
      ],
      "execution_count": null,
      "outputs": [
        {
          "output_type": "stream",
          "name": "stdout",
          "text": [
            "3zx6-pe93    cats_and_dogs_filtered.zip  dir_zip/      sample_data/\n",
            "3zx6-pe93.1  dir_tar/\t\t\t hbase.tar.gz  shape.zip\n"
          ]
        }
      ]
    },
    {
      "cell_type": "markdown",
      "metadata": {
        "id": "7sJHhLiK1Rt0"
      },
      "source": [
        "Al ver el resultado de la ejecución podemos ver que el directorio **`/content`** tiene dentro otro directorio llamado **`sample_data`**. Para identificar este directorio construimos una **ruta** a partir de su directorio padre. De esta manera, la ruta absoluta del directorio **`sample_data`** es:\n",
        "\n",
        "```\n",
        "/content/sample_data\n",
        "```\n",
        "> **Nota:** En _Google Colaboratory_ puede hacer clic en la ruta y dirigirse a la herramienta especial de manejo de archivos en el costado izquierdo. En ella podrá apreciar que existen varios archivos, como veremos a continuación.\n",
        "\n",
        "Hasta el momento no nos hemos movido del directorio original. Podemos usar el comando **`cd`** para cambiar el directorio actual. \n",
        "\n",
        "\n",
        "> **Nota:** En _Jupyter_ es necesario utilizar como prefijo el signo de porcentaje (**`%`**) en vez del símbolo usual de exclamación (**`!`**). Esto se debe a que al concluir la ejecución del comando se termina el proceso que ejecutó el comando y no se conservan los cambios en el _working directory_, entre otras cosas.  Con la sintaxis especial, _Jupyter_ se encarga de permitir que perdure el cambio entre celdas.\n",
        "\n",
        "Movámonos al directorio **`sample_data`**."
      ]
    },
    {
      "cell_type": "code",
      "metadata": {
        "colab": {
          "base_uri": "https://localhost:8080/"
        },
        "id": "iAtV-a3a3K5Q",
        "outputId": "28203f04-66a5-4632-f817-e0a7c519229e"
      },
      "source": [
        "%cd sample_data"
      ],
      "execution_count": null,
      "outputs": [
        {
          "name": "stdout",
          "output_type": "stream",
          "text": [
            "/content/sample_data\n"
          ]
        }
      ]
    },
    {
      "cell_type": "markdown",
      "metadata": {
        "id": "s0kzY6A4J4uF"
      },
      "source": [
        "Ahora, si revisamos el contenido del directorio veremos que ahora se lista el contenido del directorio **`sample_data`**:"
      ]
    },
    {
      "cell_type": "code",
      "metadata": {
        "colab": {
          "base_uri": "https://localhost:8080/"
        },
        "id": "ke5SNjo6KAYI",
        "outputId": "2831121a-e231-4596-9142-40f2dfb22289"
      },
      "source": [
        "!ls"
      ],
      "execution_count": null,
      "outputs": [
        {
          "name": "stdout",
          "output_type": "stream",
          "text": [
            "anscombe.json\t\t      mnist_test.csv\n",
            "california_housing_test.csv   mnist_train_small.csv\n",
            "california_housing_train.csv  README.md\n"
          ]
        }
      ]
    },
    {
      "cell_type": "markdown",
      "metadata": {
        "id": "BD4c4i76KCSp"
      },
      "source": [
        "El comando **`ls`** también acepta rutas para listar los contenidos de directorios específicos. Estos pueden estar especificados como **directorios absolutos** (en términos del directorio raíz y empezados en **`/`**) o **directorios relativos**, siendo el primer elemento de la ruta un elemento del directorio actual. Por ejemplo, el comando realizado para cambiar al directorio **`sample_data`** se pudo haber realizado de dos formas:\n",
        "\n",
        "* De forma absoluta: **`cd /content/sample_data`**\n",
        "* De forma relativa: **`cd sample_data`**\n",
        "\n",
        "Al igual que otros comandos que aceptan rutas como argumentos, el comando **`ls`** admite el uso de cadenas especiales que representan directorios específicos. Algunos de los más importantes son:\n",
        "\n",
        "* **`/`**: directorio raíz.\n",
        "\n"
      ]
    },
    {
      "cell_type": "code",
      "metadata": {
        "colab": {
          "base_uri": "https://localhost:8080/"
        },
        "id": "is9i7S9yQtIQ",
        "outputId": "6bcfce21-6e99-4493-86aa-57e53e52acbb"
      },
      "source": [
        "# Contenido del directorio raíz.\n",
        "!ls /"
      ],
      "execution_count": null,
      "outputs": [
        {
          "output_type": "stream",
          "name": "stdout",
          "text": [
            "bin\t datalab  home\t lib64\topt\t    root  srv\t\t     tmp    var\n",
            "boot\t dev\t  lib\t media\tproc\t    run   sys\t\t     tools\n",
            "content  etc\t  lib32  mnt\tpython-apt  sbin  tensorflow-1.15.2  usr\n"
          ]
        }
      ]
    },
    {
      "cell_type": "markdown",
      "metadata": {
        "id": "rDu3tiztQxHq"
      },
      "source": [
        "* **`.`**: directorio actual. Esto permite otra forma de indicar directorios relativos. Por ejemplo: **`cd ./sample_data`**"
      ]
    },
    {
      "cell_type": "code",
      "metadata": {
        "colab": {
          "base_uri": "https://localhost:8080/"
        },
        "id": "-dSTmsh3Q93i",
        "outputId": "66a09d9f-f335-46ce-b5e5-5f6d398340b3"
      },
      "source": [
        "# Contenido del directorio actual.\n",
        "!ls ."
      ],
      "execution_count": null,
      "outputs": [
        {
          "output_type": "stream",
          "name": "stdout",
          "text": [
            "3zx6-pe93    cats_and_dogs_filtered.zip  dir_zip       sample_data\n",
            "3zx6-pe93.1  dir_tar\t\t\t hbase.tar.gz  shape.zip\n"
          ]
        }
      ]
    },
    {
      "cell_type": "markdown",
      "metadata": {
        "id": "geBttXTkRHu0"
      },
      "source": [
        "* **`..`**: directorio padre del directorio actual. Este es el directorio en el que está contenido el directorio actual. Este permite a su vez indicar ancestros de manera consecutiva. Por ejemplo: el directorio padre del directorio padre **`cd ../..`**"
      ]
    },
    {
      "cell_type": "code",
      "metadata": {
        "colab": {
          "base_uri": "https://localhost:8080/"
        },
        "id": "bEtvW-6dRHRg",
        "outputId": "97153bbe-4e44-4c35-821f-42f568c61aa1"
      },
      "source": [
        "# Contenido del directorio padre (coincide con el directorio /content).\n",
        "!ls .."
      ],
      "execution_count": null,
      "outputs": [
        {
          "output_type": "stream",
          "name": "stdout",
          "text": [
            "bin\t datalab  home\t lib64\topt\t    root  srv\t\t     tmp    var\n",
            "boot\t dev\t  lib\t media\tproc\t    run   sys\t\t     tools\n",
            "content  etc\t  lib32  mnt\tpython-apt  sbin  tensorflow-1.15.2  usr\n"
          ]
        }
      ]
    },
    {
      "cell_type": "code",
      "metadata": {
        "colab": {
          "base_uri": "https://localhost:8080/"
        },
        "id": "6E6E3YxfST-a",
        "outputId": "1d6ac75a-b32e-4711-a08b-e647cce28986"
      },
      "source": [
        "# Contenido del directorio padre del directorio padre (coincide con el directorio raíz).\n",
        "!ls ../.."
      ],
      "execution_count": null,
      "outputs": [
        {
          "output_type": "stream",
          "name": "stdout",
          "text": [
            "bin\t datalab  home\t lib64\topt\t    root  srv\t\t     tmp    var\n",
            "boot\t dev\t  lib\t media\tproc\t    run   sys\t\t     tools\n",
            "content  etc\t  lib32  mnt\tpython-apt  sbin  tensorflow-1.15.2  usr\n"
          ]
        }
      ]
    },
    {
      "cell_type": "markdown",
      "metadata": {
        "id": "I3ah_cBSS_Gq"
      },
      "source": [
        "* **`~`**: directorio _home_ del usuario. Este corresponderá al directorio **`/home/<USER>`**, con la carpeta del usuario que ejecuta el comando. Sin embargo, si el usuario que lo ejecuta es administrador, esta carpeta corresponde al directorio **`/root`**, como sucede en la máquina que provee _Google Colab_."
      ]
    },
    {
      "cell_type": "code",
      "metadata": {
        "colab": {
          "base_uri": "https://localhost:8080/"
        },
        "id": "5NVs6mJpVh3U",
        "outputId": "4a6000ba-aa66-4378-af29-0055dd2eb9dc"
      },
      "source": [
        "# Ubicación del directorio home del usuario administrador.\n",
        "%cd ~"
      ],
      "execution_count": null,
      "outputs": [
        {
          "name": "stdout",
          "output_type": "stream",
          "text": [
            "/root\n"
          ]
        }
      ]
    },
    {
      "cell_type": "code",
      "metadata": {
        "id": "-rRpm3YCV8K2"
      },
      "source": [
        "# Contenido del directorio home del usuario administrador.\n",
        "%ls ~"
      ],
      "execution_count": null,
      "outputs": []
    },
    {
      "cell_type": "markdown",
      "metadata": {
        "id": "1HAVf0KCyTW9"
      },
      "source": [
        "### **4.1. Modificar archivos**\n",
        "---\n",
        "Los comandos descritos hasta el momento nos permiten conocer los detalles de la estructura de directorios, pero no modificarla. Si bien existen múltiples utilidades y comandos que crean, modifican y eliminan archivos como parte de su proceso, en esta sección se describirán aquellos comandos que cumplen específicamente esta función.\n"
      ]
    },
    {
      "cell_type": "markdown",
      "metadata": {
        "id": "AXm71ilchg-7"
      },
      "source": [
        "#### **4.1.1. Crear archivos y directorios**\n",
        "---\n",
        "Si se desea crear un directorio nuevo se puede utilizar el comando **`mkdir`**, especificando el nombre/ruta del directorio que se desea crear. Para esto, creemos un directorio llamado **`example_test`** en el directorio **`content`**."
      ]
    },
    {
      "cell_type": "code",
      "metadata": {
        "colab": {
          "base_uri": "https://localhost:8080/"
        },
        "id": "n8y68I-mhzEt",
        "outputId": "432865a3-34a7-4ae5-acde-a2409836653f"
      },
      "source": [
        "# Creamos el directorio example_test en el directorio content.\n",
        "%cd /content\n",
        "!mkdir example_test"
      ],
      "execution_count": null,
      "outputs": [
        {
          "name": "stdout",
          "output_type": "stream",
          "text": [
            "/content\n"
          ]
        }
      ]
    },
    {
      "cell_type": "markdown",
      "metadata": {
        "id": "MfeEoNKsqY-M"
      },
      "source": [
        "Otra forma válida sería la siguiente. Al ejecutarlo podrá notar que se arroja un error indicando que el directorio ya existe.\n",
        "\n"
      ]
    },
    {
      "cell_type": "code",
      "metadata": {
        "colab": {
          "base_uri": "https://localhost:8080/"
        },
        "id": "8mEMhIZfqa5Y",
        "outputId": "92f2fc25-6281-42e0-d70f-2a47ebf60766"
      },
      "source": [
        "!mkdir /content/example_test"
      ],
      "execution_count": null,
      "outputs": [
        {
          "name": "stdout",
          "output_type": "stream",
          "text": [
            "mkdir: cannot create directory ‘/content/example_test’: File exists\n"
          ]
        }
      ]
    },
    {
      "cell_type": "code",
      "metadata": {
        "colab": {
          "base_uri": "https://localhost:8080/"
        },
        "id": "D-fq2bYPiA7J",
        "outputId": "a6a5c721-104a-4227-eabe-89758ed2d6bb"
      },
      "source": [
        "# Vemos el directorio creado.\n",
        "!ls"
      ],
      "execution_count": null,
      "outputs": [
        {
          "name": "stdout",
          "output_type": "stream",
          "text": [
            "example_test  sample_data\n"
          ]
        }
      ]
    },
    {
      "cell_type": "markdown",
      "metadata": {
        "id": "uQ4w3L1Lh4ek"
      },
      "source": [
        "Si la ruta especificada contiene más de un directorio inexistente, se puede usar la opción **`-p`** para crear todos los directorios necesarios. Por ejemplo:"
      ]
    },
    {
      "cell_type": "code",
      "metadata": {
        "colab": {
          "base_uri": "https://localhost:8080/"
        },
        "id": "pfrCMSy9rZwm",
        "outputId": "21c606a9-a273-4505-9a6a-27d234839d5d"
      },
      "source": [
        "# Creamos el directorio 'dir_a' y su directorio hijo 'dir_b'.\n",
        "!mkdir -p example_data/dir_a/dir_b\n",
        "!ls example_data/dir_a"
      ],
      "execution_count": null,
      "outputs": [
        {
          "name": "stdout",
          "output_type": "stream",
          "text": [
            "dir_b\n"
          ]
        }
      ]
    },
    {
      "cell_type": "markdown",
      "metadata": {
        "id": "NOGqy4jwsOpC"
      },
      "source": [
        "Por otra parte, si se desea crear un archivo vacío podemos utilizar el comando **`touch`**, seguido del nombre/ruta del archivo. Este comando permite realizar otras tareas, pero es usado frecuentemente con este propósito."
      ]
    },
    {
      "cell_type": "code",
      "metadata": {
        "id": "QvpozJgTPqtd"
      },
      "source": [
        "# Creamos un archivo con extensión '.txt' en el directorio 'example_data'\n",
        "!touch example.txt"
      ],
      "execution_count": null,
      "outputs": []
    },
    {
      "cell_type": "markdown",
      "metadata": {
        "id": "o9uQY_0ut6Vi"
      },
      "source": [
        "De igual forma, usando el comando **`cat`** con la sintaxis de redirección **`>`** puede escribir en consola el contenido del archivo y escribirlo.\n",
        "\n",
        "> **Importante**: en _Google Colaboratory_, cuando haya terminado de ingresar el contenido puede terminar la ejecución usando el botón circular de detener la ejecución, ubicado en el costado derecho de la celda. El contenido se almacenará en el archivo."
      ]
    },
    {
      "cell_type": "code",
      "metadata": {
        "colab": {
          "base_uri": "https://localhost:8080/"
        },
        "id": "fdnJjKiis7-6",
        "outputId": "aebfe303-0233-44b6-c2ee-3d7542277960"
      },
      "source": [
        "# Escribimos el contenido del archivo example.txt con nuestra entrada.\n",
        "!cat > example.txt"
      ],
      "execution_count": null,
      "outputs": [
        {
          "name": "stdout",
          "output_type": "stream",
          "text": [
            "Este es un archivo.\n",
            "^C\n"
          ]
        }
      ]
    },
    {
      "cell_type": "markdown",
      "metadata": {
        "id": "jdF687yNwykh"
      },
      "source": [
        "Este comando también permite imprimir el contenido del archivo, omitiendo el símbolo de redirección **`>`**. Sin entrar en detalle, esto permite traer el contenido del archivo al \"_output_\" o salida de nuestra terminal, y al usar la otra sintaxis se usa el \"_input_\" o entrada de nuestro terminal y lo ubica en el archivo indicado con la ruta. Para más detalles, consulte el siguiente [enlace](https://www.gnu.org/software/bash/manual/html_node/Redirections.html)."
      ]
    },
    {
      "cell_type": "code",
      "metadata": {
        "colab": {
          "base_uri": "https://localhost:8080/"
        },
        "id": "BUGGyKjwwwPT",
        "outputId": "5819fc82-a066-4afc-ccf6-4ad40b769c30"
      },
      "source": [
        "# Imprimimos el contenido del archivo example.txt\n",
        "!cat example.txt"
      ],
      "execution_count": null,
      "outputs": [
        {
          "name": "stdout",
          "output_type": "stream",
          "text": [
            "Este es un archivo.\n"
          ]
        }
      ]
    },
    {
      "cell_type": "markdown",
      "metadata": {
        "id": "rWho4VqS1mst"
      },
      "source": [
        "Esta aproximación al problema es muy limitada, y en general se recomienda realizar los procesos de edición y modificación manual de archivos con un editor de texto apropiado como **`nano`**, **`vi`** o **`vim`**, o de acuerdo a la máquina usada, editores de terceros como [*Visual Studio Code*](https://code.visualstudio.com/), [*Sublime Text*](https://www.sublimetext.com/), [*GNU Emacs*](https://www.gnu.org/software/emacs/), [*Atom*](https://www.gnu.org/software/emacs/), entre otros."
      ]
    },
    {
      "cell_type": "markdown",
      "metadata": {
        "id": "cmg9cL-gzIys"
      },
      "source": [
        "#### **4.1.2. Copiar y mover archivos y directorios**\n",
        "---\n",
        "\n",
        "Si se desea mover archivos existentes entre distintas ubicaciones del sistema de archivos, podemos utilizar dos enfoques. En uno, movemos el archivo de sitio (mover) y en el otro creamos un archivo idéntico en la ubicación destino (copiar). \n",
        "\n",
        "Para esto utilizaremos los comandos **`mv`** y **`cp`**. El comando **`mv`** desplaza un archivo entre dos rutas especificadas como argumentos. El primero debe corresponder al archivo o directorio origen y el segundo al directorio de la ubicación destino. Veamos un ejemplo:\n",
        "\n"
      ]
    },
    {
      "cell_type": "code",
      "metadata": {
        "id": "VwN-nGTV0Qet"
      },
      "source": [
        "!mv example.txt example_data"
      ],
      "execution_count": null,
      "outputs": []
    },
    {
      "cell_type": "markdown",
      "metadata": {
        "id": "kvn13y2C0VzR"
      },
      "source": [
        "Ahora veamos las dos ubicaciones:"
      ]
    },
    {
      "cell_type": "code",
      "metadata": {
        "colab": {
          "base_uri": "https://localhost:8080/"
        },
        "id": "n07VCqk80U9z",
        "outputId": "abd1c784-a77f-4ce7-bdd4-f2f4d60fa723"
      },
      "source": [
        "# Ubicación de origen (el archivo 'example.txt' ya no está)\n",
        "!ls"
      ],
      "execution_count": null,
      "outputs": [
        {
          "name": "stdout",
          "output_type": "stream",
          "text": [
            "example_data  example_test  sample_data\n"
          ]
        }
      ]
    },
    {
      "cell_type": "code",
      "metadata": {
        "colab": {
          "base_uri": "https://localhost:8080/"
        },
        "id": "126d6n4t0es3",
        "outputId": "8d378ec0-49ce-4574-d3ff-9f5649564763"
      },
      "source": [
        "# Ubicación de destino (el archivo 'example.txt' ahora se encuentra acá)\n",
        "!ls -p example_data"
      ],
      "execution_count": null,
      "outputs": [
        {
          "name": "stdout",
          "output_type": "stream",
          "text": [
            "dir_a/\texample.txt\n"
          ]
        }
      ]
    },
    {
      "cell_type": "markdown",
      "metadata": {
        "id": "xjy1GJFO0yPB"
      },
      "source": [
        "El comando **`cp`** se usa de la misma manera, pero no altera el archivo de origen. Copiemos el archivo a los directorios creados anteriormente:"
      ]
    },
    {
      "cell_type": "code",
      "metadata": {
        "id": "GWCycNCW0--M"
      },
      "source": [
        "# Copiamos el archivo al directorio 'dir_b'.\n",
        "!cp example_data/example.txt example_data/dir_a/dir_b"
      ],
      "execution_count": null,
      "outputs": []
    },
    {
      "cell_type": "markdown",
      "metadata": {
        "id": "gRKBBlVo1LcO"
      },
      "source": [
        "Ahora veamos las dos ubicaciones:"
      ]
    },
    {
      "cell_type": "code",
      "metadata": {
        "colab": {
          "base_uri": "https://localhost:8080/"
        },
        "id": "dj2qX85f1LcP",
        "outputId": "a01f2eb9-1078-4362-f5f6-830bcd9c925f"
      },
      "source": [
        "# Ubicación de origen (el archivo 'example.txt' sigue acá)\n",
        "!ls -p example_data"
      ],
      "execution_count": null,
      "outputs": [
        {
          "name": "stdout",
          "output_type": "stream",
          "text": [
            "dir_a/\texample.txt\n"
          ]
        }
      ]
    },
    {
      "cell_type": "code",
      "metadata": {
        "colab": {
          "base_uri": "https://localhost:8080/"
        },
        "id": "C-7jwR931LcP",
        "outputId": "24b646d5-7ea5-416d-bac1-0a8ccc5ad2c2"
      },
      "source": [
        "# Ubicación de destino (el archivo 'example.txt' ahora se encuentra acá también)\n",
        "!ls -p example_data/dir_a/dir_b"
      ],
      "execution_count": null,
      "outputs": [
        {
          "name": "stdout",
          "output_type": "stream",
          "text": [
            "example.txt\n"
          ]
        }
      ]
    },
    {
      "cell_type": "markdown",
      "metadata": {
        "id": "BcayU5IY77Fg"
      },
      "source": [
        "#### **4.1.3. Eliminar archivos y directorios**\n",
        "---\n",
        "\n",
        "Finalmente, se pueden eliminar archivos con el comando **`rm`**. La sintaxis, de manera similar a **`cp`** y **`mv`**, consiste en los archivos que se desean eliminar, separados por espacio. Antes de continuar, crearemos un directorio y un par de archivos para eliminarlos luego.\n",
        "\n"
      ]
    },
    {
      "cell_type": "code",
      "metadata": {
        "colab": {
          "base_uri": "https://localhost:8080/"
        },
        "id": "2s0W1C5uED73",
        "outputId": "6fbd02c6-a9e7-4932-b287-a45f97c5cb26"
      },
      "source": [
        "# Creamos los directorios y los archivos correspondientes.\n",
        "!mkdir -p example_rm/example_rm_empty/\n",
        "!mkdir -p example_rm/example_rm_not_empty/\n",
        "!touch example_rm/a.txt\n",
        "!touch example_rm/b.txt\n",
        "!touch example_rm/example_rm_not_empty/c.txt\n",
        "\n",
        "# Listamos la estructura creada.\n",
        "!ls example_rm"
      ],
      "execution_count": null,
      "outputs": [
        {
          "name": "stdout",
          "output_type": "stream",
          "text": [
            "a.txt  b.txt  example_rm_empty\texample_rm_not_empty\n"
          ]
        }
      ]
    },
    {
      "cell_type": "markdown",
      "metadata": {
        "id": "pELwbwSkEvq-"
      },
      "source": [
        "Ahora, usamos el comando **`rm`** para eliminar los archivos **`'a.txt'`** y **`'b.txt'`**."
      ]
    },
    {
      "cell_type": "code",
      "metadata": {
        "colab": {
          "base_uri": "https://localhost:8080/"
        },
        "id": "UbWR3B-4Ej3O",
        "outputId": "4f1219c2-d09e-46f5-9e10-e6d18f351830"
      },
      "source": [
        "!rm example_rm/a.txt example_rm/b.txt\n",
        "!ls example_rm"
      ],
      "execution_count": null,
      "outputs": [
        {
          "name": "stdout",
          "output_type": "stream",
          "text": [
            "example_rm_empty  example_rm_not_empty\n"
          ]
        }
      ]
    },
    {
      "cell_type": "markdown",
      "metadata": {
        "id": "yE7XDO0-FksK"
      },
      "source": [
        "Para eliminar los directorios podemos utilizar el comando **`rmdir`**. Borraremos el directorio vacío **`example_rm_empty`**:"
      ]
    },
    {
      "cell_type": "code",
      "metadata": {
        "colab": {
          "base_uri": "https://localhost:8080/"
        },
        "id": "3tyB0-g9Fuo4",
        "outputId": "64321d74-3351-48af-a299-76e12e495908"
      },
      "source": [
        "!rmdir example_rm/example_rm_empty\n",
        "!ls example_rm"
      ],
      "execution_count": null,
      "outputs": [
        {
          "name": "stdout",
          "output_type": "stream",
          "text": [
            "example_rm_not_empty\n"
          ]
        }
      ]
    },
    {
      "cell_type": "markdown",
      "metadata": {
        "id": "VELvn79CF17v"
      },
      "source": [
        "No obstante, si intentáramos borrar un directorio con contenido el comando nos arrojaría un error:"
      ]
    },
    {
      "cell_type": "code",
      "metadata": {
        "colab": {
          "base_uri": "https://localhost:8080/"
        },
        "id": "zm5utXL5F8bX",
        "outputId": "d27dc0cc-33a4-46f8-8493-26ce5f7307fe"
      },
      "source": [
        "!rmdir example_rm/example_rm_not_empty"
      ],
      "execution_count": null,
      "outputs": [
        {
          "name": "stdout",
          "output_type": "stream",
          "text": [
            "rmdir: failed to remove 'example_rm/example_rm_not_empty': Directory not empty\n"
          ]
        }
      ]
    },
    {
      "cell_type": "markdown",
      "metadata": {
        "id": "sHyeGtGZF_u0"
      },
      "source": [
        "Para esto, podemos recurrir al comando **`rm`**, apoyado por la opción **`-r`**, que elimina de manera recursiva el contenido del directorio señalado. Eliminemos el directorio **`example_rm_not_empty`**:"
      ]
    },
    {
      "cell_type": "code",
      "metadata": {
        "id": "oA-xKnQ3FPjZ"
      },
      "source": [
        "# Eliminamos el directorio de manera recursiva:\n",
        "!rm -r example_rm/example_rm_not_empty\n",
        "!ls example_rm"
      ],
      "execution_count": null,
      "outputs": []
    },
    {
      "cell_type": "markdown",
      "metadata": {
        "id": "6gnC7e5zHaSS"
      },
      "source": [
        "#### **4.1.4. Contenido de un archivo**\n",
        "---\n",
        "Como se mencionó antes, el comando **`cat`** permite, entre otras cosas, ver en la salida de la consola el contenido completo de un archivo. Esto es inconveniente cuando los archivos son de gran tamaño. Para esto, y de manera similar a los métodos de la librería _Pandas_ de _Python_ usada en los módulos anteriores, es posible ver únicamente el principio o el final de un archivo con los comandos **`head`** y **`tail`**.\n",
        "\n",
        "Veamos un ejemplo con uno de los archivos disponibles en el directorio **`sample_data`**:\n",
        "\n"
      ]
    },
    {
      "cell_type": "code",
      "metadata": {
        "colab": {
          "base_uri": "https://localhost:8080/"
        },
        "id": "zJqvqtPXO3Vl",
        "outputId": "c962f3d2-4076-469e-a9c6-f09faa256bd5"
      },
      "source": [
        "# Primeras 10 líneas del archivo 'anscombe.json'.\n",
        "!head /content/sample_data/anscombe.json"
      ],
      "execution_count": null,
      "outputs": [
        {
          "name": "stdout",
          "output_type": "stream",
          "text": [
            "[\n",
            "  {\"Series\":\"I\", \"X\":10.0, \"Y\":8.04},\n",
            "  {\"Series\":\"I\", \"X\":8.0, \"Y\":6.95},\n",
            "  {\"Series\":\"I\", \"X\":13.0, \"Y\":7.58},\n",
            "  {\"Series\":\"I\", \"X\":9.0, \"Y\":8.81},\n",
            "  {\"Series\":\"I\", \"X\":11.0, \"Y\":8.33},\n",
            "  {\"Series\":\"I\", \"X\":14.0, \"Y\":9.96},\n",
            "  {\"Series\":\"I\", \"X\":6.0, \"Y\":7.24},\n",
            "  {\"Series\":\"I\", \"X\":4.0, \"Y\":4.26},\n",
            "  {\"Series\":\"I\", \"X\":12.0, \"Y\":10.84},\n"
          ]
        }
      ]
    },
    {
      "cell_type": "code",
      "metadata": {
        "colab": {
          "base_uri": "https://localhost:8080/"
        },
        "id": "p1NF0sN6P5Q4",
        "outputId": "87ced27e-4f0d-4e26-c099-d831701c1b2c"
      },
      "source": [
        "# Últimas 10 líneas del archivo 'anscombe.json'.\n",
        "!tail /content/sample_data/anscombe.json"
      ],
      "execution_count": null,
      "outputs": [
        {
          "name": "stdout",
          "output_type": "stream",
          "text": [
            "  {\"Series\":\"IV\", \"X\":8.0, \"Y\":7.71},\n",
            "  {\"Series\":\"IV\", \"X\":8.0, \"Y\":8.84},\n",
            "  {\"Series\":\"IV\", \"X\":8.0, \"Y\":8.47},\n",
            "  {\"Series\":\"IV\", \"X\":8.0, \"Y\":7.04},\n",
            "  {\"Series\":\"IV\", \"X\":8.0, \"Y\":5.25},\n",
            "  {\"Series\":\"IV\", \"X\":19.0, \"Y\":12.50},\n",
            "  {\"Series\":\"IV\", \"X\":8.0, \"Y\":5.56},\n",
            "  {\"Series\":\"IV\", \"X\":8.0, \"Y\":7.91},\n",
            "  {\"Series\":\"IV\", \"X\":8.0, \"Y\":6.89}\n",
            "]\n"
          ]
        }
      ]
    },
    {
      "cell_type": "markdown",
      "metadata": {
        "id": "TJlIA1RFUDvq"
      },
      "source": [
        "Se puede utilizar la opción **`-n`** para especificar el número de líneas a imprimir:"
      ]
    },
    {
      "cell_type": "code",
      "metadata": {
        "colab": {
          "base_uri": "https://localhost:8080/"
        },
        "id": "hJZrmFCJUbyP",
        "outputId": "8d9999f6-646b-48ad-de94-24ff5f574ef2"
      },
      "source": [
        "# Primeras 5 líneas del archivo 'anscombe.json'.\n",
        "!head -n 5 /content/sample_data/anscombe.json"
      ],
      "execution_count": null,
      "outputs": [
        {
          "name": "stdout",
          "output_type": "stream",
          "text": [
            "[\n",
            "  {\"Series\":\"I\", \"X\":10.0, \"Y\":8.04},\n",
            "  {\"Series\":\"I\", \"X\":8.0, \"Y\":6.95},\n",
            "  {\"Series\":\"I\", \"X\":13.0, \"Y\":7.58},\n",
            "  {\"Series\":\"I\", \"X\":9.0, \"Y\":8.81},\n"
          ]
        }
      ]
    },
    {
      "cell_type": "code",
      "metadata": {
        "colab": {
          "base_uri": "https://localhost:8080/"
        },
        "id": "rxoGznbuUbyd",
        "outputId": "7ebaac90-79b8-4d6e-8c2a-fd0d1ec8746f"
      },
      "source": [
        "# Últimas 5 líneas del archivo 'anscombe.json'.\n",
        "!tail -n 5  /content/sample_data/anscombe.json"
      ],
      "execution_count": null,
      "outputs": [
        {
          "name": "stdout",
          "output_type": "stream",
          "text": [
            "  {\"Series\":\"IV\", \"X\":19.0, \"Y\":12.50},\n",
            "  {\"Series\":\"IV\", \"X\":8.0, \"Y\":5.56},\n",
            "  {\"Series\":\"IV\", \"X\":8.0, \"Y\":7.91},\n",
            "  {\"Series\":\"IV\", \"X\":8.0, \"Y\":6.89}\n",
            "]\n"
          ]
        }
      ]
    },
    {
      "cell_type": "markdown",
      "metadata": {
        "id": "EdSvM_m7UtuJ"
      },
      "source": [
        "Otra función importante es el conteo de palabras, _bytes_ o líneas de un archivo de texto, posible con el comando **`wc`**. Este utiliza sus _flags_ para determinar el tipo de _token_ o fragmento a diferenciar en el conteo. Veamos un resumen de sus opciones:"
      ]
    },
    {
      "cell_type": "code",
      "metadata": {
        "colab": {
          "base_uri": "https://localhost:8080/"
        },
        "id": "ordg3a0MXni8",
        "outputId": "b1f0dd96-78dc-4286-db62-83a2f3c3f3f4"
      },
      "source": [
        "!wc --help"
      ],
      "execution_count": null,
      "outputs": [
        {
          "name": "stdout",
          "output_type": "stream",
          "text": [
            "Usage: wc [OPTION]... [FILE]...\n",
            "  or:  wc [OPTION]... --files0-from=F\n",
            "Print newline, word, and byte counts for each FILE, and a total line if\n",
            "more than one FILE is specified.  A word is a non-zero-length sequence of\n",
            "characters delimited by white space.\n",
            "\n",
            "With no FILE, or when FILE is -, read standard input.\n",
            "\n",
            "The options below may be used to select which counts are printed, always in\n",
            "the following order: newline, word, character, byte, maximum line length.\n",
            "  -c, --bytes            print the byte counts\n",
            "  -m, --chars            print the character counts\n",
            "  -l, --lines            print the newline counts\n",
            "      --files0-from=F    read input from the files specified by\n",
            "                           NUL-terminated names in file F;\n",
            "                           If F is - then read names from standard input\n",
            "  -L, --max-line-length  print the maximum display width\n",
            "  -w, --words            print the word counts\n",
            "      --help     display this help and exit\n",
            "      --version  output version information and exit\n",
            "\n",
            "GNU coreutils online help: <http://www.gnu.org/software/coreutils/>\n",
            "Full documentation at: <http://www.gnu.org/software/coreutils/wc>\n",
            "or available locally via: info '(coreutils) wc invocation'\n"
          ]
        }
      ]
    },
    {
      "cell_type": "code",
      "metadata": {
        "colab": {
          "base_uri": "https://localhost:8080/"
        },
        "id": "R4W21ChcXJ21",
        "outputId": "b8525ff0-cc39-43af-cd91-5fa89385fe82"
      },
      "source": [
        "# Por defecto retorna la cantidad de lineas, palabras y bytes.\n",
        "!wc /content/sample_data/anscombe.json"
      ],
      "execution_count": null,
      "outputs": [
        {
          "name": "stdout",
          "output_type": "stream",
          "text": [
            "  49  134 1697 /content/sample_data/anscombe.json\n"
          ]
        }
      ]
    },
    {
      "cell_type": "markdown",
      "metadata": {
        "id": "HO3evOT0Hrsh"
      },
      "source": [
        "## **5. Operaciones en archivos**\n",
        "---\n",
        "\n",
        "\n",
        "En esta sección se presentarán algunos comandos de utilidad comunes en el manejo de archivos en sistemas basados en UNIX. Sin embargo, y como se había mencionado antes, este material no pretende ser una guía exhaustiva de todos los comandos disponibles. Lo invitamos a investigar por su cuenta en busca de más utilidades y comandos que más le puedan aportar en la realización de tareas de su dominio."
      ]
    },
    {
      "cell_type": "markdown",
      "metadata": {
        "id": "0eSsLTwyHiV9"
      },
      "source": [
        "### **5.1. Descargar y descomprimir archivos**\n",
        "---\n",
        "\n",
        "En muchos casos, tenemos que traer desde una ubicación remota de red archivos necesarios para cumplir una tarea determinada, como la instalación de un software o la recuperación de un conjunto de datos.\n",
        "\n",
        "Esto es posible con el comando **`wget`**, que permite descargar un archivo a partir de su URL. Veamos un ejemplo de descarga de un archivo:\n",
        "\n",
        "\n",
        "\n",
        "\n"
      ]
    },
    {
      "cell_type": "code",
      "metadata": {
        "colab": {
          "base_uri": "https://localhost:8080/"
        },
        "id": "NsF_drUqlKaY",
        "outputId": "749e90c1-0fbd-44e0-a689-91d53721ac11"
      },
      "source": [
        "# Descarga de un dataset de datos abiertos geográficos.\n",
        "!wget https://storage.googleapis.com/mledu-datasets/cats_and_dogs_filtered.zip -O cats_and_dogs_filtered.zip"
      ],
      "execution_count": null,
      "outputs": [
        {
          "output_type": "stream",
          "name": "stdout",
          "text": [
            "--2021-11-10 00:24:35--  https://storage.googleapis.com/mledu-datasets/cats_and_dogs_filtered.zip\n",
            "Resolving storage.googleapis.com (storage.googleapis.com)... 173.194.213.128, 173.194.215.128, 108.177.13.128, ...\n",
            "Connecting to storage.googleapis.com (storage.googleapis.com)|173.194.213.128|:443... connected.\n",
            "HTTP request sent, awaiting response... 200 OK\n",
            "Length: 68606236 (65M) [application/zip]\n",
            "Saving to: ‘cats_and_dogs_filtered.zip’\n",
            "\n",
            "cats_and_dogs_filte 100%[===================>]  65.43M   151MB/s    in 0.4s    \n",
            "\n",
            "2021-11-10 00:24:36 (151 MB/s) - ‘cats_and_dogs_filtered.zip’ saved [68606236/68606236]\n",
            "\n"
          ]
        }
      ]
    },
    {
      "cell_type": "markdown",
      "metadata": {
        "id": "e4IW4IoBnX2t"
      },
      "source": [
        "Una de las opciones más utilizadas es la posibilidad de definir un nombre de salida. Esto se realiza con la _flag_ **`-O`**, seguida del nombre con el que se almacenará. Hagamos otra descarga:"
      ]
    },
    {
      "cell_type": "code",
      "metadata": {
        "colab": {
          "base_uri": "https://localhost:8080/"
        },
        "id": "oyaNakU7bxpr",
        "outputId": "f1c72ff9-e3e4-4f32-c7d4-c788cf17aca8"
      },
      "source": [
        "# Descarga del archivo de instalación de HBase.\n",
        "!wget https://downloads.apache.org/hbase/2.4.8/hbase-2.4.8-src.tar.gz -O hbase.tar.gz"
      ],
      "execution_count": null,
      "outputs": [
        {
          "output_type": "stream",
          "name": "stdout",
          "text": [
            "--2021-11-10 00:25:13--  https://downloads.apache.org/hbase/2.4.8/hbase-2.4.8-src.tar.gz\n",
            "Resolving downloads.apache.org (downloads.apache.org)... 135.181.214.104, 88.99.95.219, 2a01:4f9:3a:2c57::2, ...\n",
            "Connecting to downloads.apache.org (downloads.apache.org)|135.181.214.104|:443... connected.\n",
            "HTTP request sent, awaiting response... 200 OK\n",
            "Length: 37016509 (35M) [application/x-gzip]\n",
            "Saving to: ‘hbase.tar.gz’\n",
            "\n",
            "hbase.tar.gz        100%[===================>]  35.30M  16.1MB/s    in 2.2s    \n",
            "\n",
            "2021-11-10 00:25:16 (16.1 MB/s) - ‘hbase.tar.gz’ saved [37016509/37016509]\n",
            "\n"
          ]
        }
      ]
    },
    {
      "cell_type": "code",
      "metadata": {
        "colab": {
          "base_uri": "https://localhost:8080/"
        },
        "id": "cc7F9n0HjZUj",
        "outputId": "73deb609-7dff-4862-89a2-357d9e624eba"
      },
      "source": [
        "# Listamos los archivos descargados.\n",
        "!ls -la"
      ],
      "execution_count": null,
      "outputs": [
        {
          "output_type": "stream",
          "name": "stdout",
          "text": [
            "total 105432\n",
            "drwxr-xr-x 1 root root     4096 Nov  9 21:23 .\n",
            "drwxr-xr-x 1 root root     4096 Nov  9 20:51 ..\n",
            "-rw-r--r-- 1 root root   769525 Nov  9 21:02 3zx6-pe93\n",
            "-rw-r--r-- 1 root root   769525 Nov  9 21:02 3zx6-pe93.1\n",
            "-rw-r--r-- 1 root root 68606236 Mar 28  2018 cats_and_dogs_filtered.zip\n",
            "drwxr-xr-x 4 root root     4096 Nov  1 13:34 .config\n",
            "drwxr-xr-x 3 root root     4096 Nov  9 21:23 dir_tar\n",
            "drwxr-xr-x 3 root root     4096 Nov  9 21:23 dir_zip\n",
            "-rw-r--r-- 1 root root 37016509 Oct 27 16:31 hbase.tar.gz\n",
            "drwxr-xr-x 1 root root     4096 Nov  1 13:35 sample_data\n",
            "-rw-r--r-- 1 root root   769525 Nov  9 21:11 shape.zip\n"
          ]
        }
      ]
    },
    {
      "cell_type": "markdown",
      "metadata": {
        "id": "alNeG6Hyr5rm"
      },
      "source": [
        "Ahora, para descomprimir el archivo **`'cats_and_dogs_filtered.zip'`** podemos utilizar el comando **`unzip`**.  Este recibe la opción **`-d`** para definir el nombre o ruta del directorio dentro del cual se va a desempaquetar el contenido del archivo comprimido."
      ]
    },
    {
      "cell_type": "code",
      "metadata": {
        "colab": {
          "base_uri": "https://localhost:8080/"
        },
        "id": "pLQWZ34t8nVT",
        "outputId": "f0c7c868-5dd5-4752-a6ee-4214ddda3885"
      },
      "source": [
        "\n",
        "!unzip -d dir_zip cats_and_dogs_filtered.zip"
      ],
      "execution_count": null,
      "outputs": [
        {
          "output_type": "stream",
          "name": "stdout",
          "text": [
            "Archive:  cats_and_dogs_filtered.zip\n",
            "replace dir_zip/cats_and_dogs_filtered/vectorize.py? [y]es, [n]o, [A]ll, [N]one, [r]ename: "
          ]
        }
      ]
    },
    {
      "cell_type": "markdown",
      "metadata": {
        "id": "U_oyc8h5DXQ9"
      },
      "source": [
        "Por su parte, para descomprimir un archivo en formato **`'tar.gz'`** puede utilizar el comando **`tar xzf <file.tar.gz>`**, y especificar la ruta de destino con la opción **`-C`** de la siguiente forma:"
      ]
    },
    {
      "cell_type": "code",
      "metadata": {
        "id": "j8l_nHp9D0I_"
      },
      "source": [
        "# Creamos el nuevo directorio y descomprimimos el archivo.\n",
        "!mkdir dir_tar\n",
        "!tar xzf hbase.tar.gz -C dir_tar/"
      ],
      "execution_count": null,
      "outputs": []
    },
    {
      "cell_type": "code",
      "metadata": {
        "colab": {
          "base_uri": "https://localhost:8080/"
        },
        "id": "OxpYGEN7EQYv",
        "outputId": "aa91e374-55c8-4bbe-ceb8-72168ca217f5"
      },
      "source": [
        "# Listamos los archivos descomprimidos.\n",
        "!ls dir_tar"
      ],
      "execution_count": null,
      "outputs": [
        {
          "name": "stdout",
          "output_type": "stream",
          "text": [
            "hbase-2.4.8\n"
          ]
        }
      ]
    },
    {
      "cell_type": "markdown",
      "metadata": {
        "id": "4KrLD4ngAq6y"
      },
      "source": [
        "## **6. Instalar dependencias**\n",
        "---\n",
        "\n",
        "En ocasiones es necesario obtener dependencias que no están instaladas en una máquina determinada. Dependiendo de la distribución instalada, se pueden utilizar [gestores de paquetes](https://en.wikipedia.org/wiki/Package_manager) como **`apt`**, **`zypper`**, **`pacman`**, **`yum`**, **`brew`** y**`chocolatey`**.  En nuestro caso, como la máquina instalada en _Google Colaboratory_ tiene una distribución _Ubuntu_, podemos utilizar el gestor de paquetes **`apt`**. Este dispone de múltiples subcomandos que permiten configurar, instalar y modificar los paquetes correspondientes.\n",
        "\n",
        "En primer lugar, vamos a obtener los datos del repositorio de origen de paquetes disponibles:\n",
        "\n",
        "\n",
        "\n",
        "\n",
        "\n",
        "\n",
        "\n"
      ]
    },
    {
      "cell_type": "code",
      "metadata": {
        "colab": {
          "base_uri": "https://localhost:8080/"
        },
        "id": "bKkv5uO-Ezix",
        "outputId": "3b786bae-ed71-4374-e28d-fb152c742a08"
      },
      "source": [
        "# Actualizamos la lista de paquetes disponibles del repositorio.\n",
        "!apt update"
      ],
      "execution_count": null,
      "outputs": [
        {
          "output_type": "stream",
          "name": "stdout",
          "text": [
            "\u001b[33m\r0% [Working]\u001b[0m\r            \rHit:1 https://cloud.r-project.org/bin/linux/ubuntu bionic-cran40/ InRelease\n",
            "Ign:2 https://developer.download.nvidia.com/compute/cuda/repos/ubuntu1804/x86_64  InRelease\n",
            "Get:3 http://ppa.launchpad.net/c2d4u.team/c2d4u4.0+/ubuntu bionic InRelease [15.9 kB]\n",
            "Get:4 http://security.ubuntu.com/ubuntu bionic-security InRelease [88.7 kB]\n",
            "Ign:5 https://developer.download.nvidia.com/compute/machine-learning/repos/ubuntu1804/x86_64  InRelease\n",
            "Hit:6 http://archive.ubuntu.com/ubuntu bionic InRelease\n",
            "Hit:7 https://developer.download.nvidia.com/compute/cuda/repos/ubuntu1804/x86_64  Release\n",
            "Hit:8 https://developer.download.nvidia.com/compute/machine-learning/repos/ubuntu1804/x86_64  Release\n",
            "Get:9 http://archive.ubuntu.com/ubuntu bionic-updates InRelease [88.7 kB]\n",
            "Hit:10 http://ppa.launchpad.net/cran/libgit2/ubuntu bionic InRelease\n",
            "Get:11 http://archive.ubuntu.com/ubuntu bionic-backports InRelease [74.6 kB]\n",
            "Hit:12 http://ppa.launchpad.net/deadsnakes/ppa/ubuntu bionic InRelease\n",
            "Hit:13 http://ppa.launchpad.net/graphics-drivers/ppa/ubuntu bionic InRelease\n",
            "Get:16 http://ppa.launchpad.net/c2d4u.team/c2d4u4.0+/ubuntu bionic/main Sources [1,812 kB]\n",
            "Get:17 http://archive.ubuntu.com/ubuntu bionic-updates/main amd64 Packages [2,867 kB]\n",
            "Get:18 http://ppa.launchpad.net/c2d4u.team/c2d4u4.0+/ubuntu bionic/main amd64 Packages [928 kB]\n",
            "Get:19 http://archive.ubuntu.com/ubuntu bionic-updates/restricted amd64 Packages [699 kB]\n",
            "Fetched 6,574 kB in 3s (2,012 kB/s)\n",
            "Reading package lists... Done\n",
            "Building dependency tree       \n",
            "Reading state information... Done\n",
            "57 packages can be upgraded. Run 'apt list --upgradable' to see them.\n"
          ]
        }
      ]
    },
    {
      "cell_type": "markdown",
      "metadata": {
        "id": "sLfjnXe1FvGx"
      },
      "source": [
        "Ahora, podemos instalar las últimas versiones de un paquete disponible:"
      ]
    },
    {
      "cell_type": "code",
      "metadata": {
        "colab": {
          "base_uri": "https://localhost:8080/"
        },
        "id": "EQPO_r7mGDNA",
        "outputId": "58cc86e3-bef6-428f-99f4-5742a40b0bfb"
      },
      "source": [
        "# Instalamos el paquete 'graphviz'.\n",
        "!apt install graphviz"
      ],
      "execution_count": null,
      "outputs": [
        {
          "output_type": "stream",
          "name": "stdout",
          "text": [
            "Reading package lists... Done\n",
            "Building dependency tree       \n",
            "Reading state information... Done\n",
            "graphviz is already the newest version (2.40.1-2).\n",
            "0 upgraded, 0 newly installed, 0 to remove and 57 not upgraded.\n"
          ]
        }
      ]
    },
    {
      "cell_type": "markdown",
      "metadata": {
        "id": "5YPMSdJQGspx"
      },
      "source": [
        "> **Nota:** En ocasiones, en las guías de instalación es necesario realizar la instalación de la siguiente forma:\n",
        "  ```\n",
        "  sudo apt install <package>\n",
        "  ```\n",
        "  En esta guía no usamos ni discutimos el uso de los comandos **`sudo`** y **`su`**, que permiten realizar operaciones como superusuario o _root_, pues en el entorno de _Google Colaboratory_ todos los comandos se ejecutan de este modo. Para mayor información, consulte el siguiente [enlace](https://help.ubuntu.com/community/RootSudo)."
      ]
    },
    {
      "cell_type": "markdown",
      "metadata": {
        "id": "KsDKMShRIFU0"
      },
      "source": [
        "De igual manera, en el caso particular de los paquetes de _Python_, se puede instalar nuevas dependencias con el uso del comando **`pip`**, que funciona como un gestor de paquetes para el entorno del lenguaje. A continuación, veremos un ejemplo de cómo instalar la última versión de un módulo de _Python_:"
      ]
    },
    {
      "cell_type": "code",
      "metadata": {
        "colab": {
          "base_uri": "https://localhost:8080/"
        },
        "id": "TgJO5jyjIXDW",
        "outputId": "fa24775c-42af-4262-e6c6-5ac6a252780e"
      },
      "source": [
        "# Gestor de paquetes de Python: PIP\n",
        "!pip install -U plotly"
      ],
      "execution_count": null,
      "outputs": [
        {
          "output_type": "stream",
          "name": "stdout",
          "text": [
            "Requirement already satisfied: plotly in /usr/local/lib/python3.7/dist-packages (5.3.1)\n",
            "Requirement already satisfied: tenacity>=6.2.0 in /usr/local/lib/python3.7/dist-packages (from plotly) (8.0.1)\n",
            "Requirement already satisfied: six in /usr/local/lib/python3.7/dist-packages (from plotly) (1.15.0)\n"
          ]
        }
      ]
    },
    {
      "cell_type": "markdown",
      "metadata": {
        "id": "4r5hSQAz6d-g"
      },
      "source": [
        "## **Recursos adicionales**\n",
        "---\n",
        "A continuación encontrará una lista de recursos para reforzar sus conocimientos en sistemas operativos basados en *UNIX*:\n",
        "\n",
        "* [Stanford University - Basic UNIX commands](http://mally.stanford.edu/~sr/computing/basic-unix.html)\n",
        "* [Ubuntu - Official Ubuntu Documentation](https://help.ubuntu.com/)\n",
        "* [BinaryTides - 16 Commands to Check Hardware Information on Linux](https://www.binarytides.com/linux-commands-hardware-info/)\n",
        "* [Coursera - Johns Jopkins University - The Unix Workbench](https://www.coursera.org/learn/unix)\n",
        "* [Coursera - The Linux Foundation - Open Source Software Development, Linux and Git Specialization ](https://www.coursera.org/specializations/oss-development-linux-git)\n",
        "* [Platzi - Curso de Introducción ala Terminal y Línea de Comandos](https://platzi.com/clases/terminal/)\n"
      ]
    },
    {
      "cell_type": "markdown",
      "metadata": {
        "id": "z4VavQ3wgMGo"
      },
      "source": [
        "## **Créditos**\n",
        "---\n",
        "\n",
        "* **Profesor:** [Jorge E. Camargo, PhD](https://dis.unal.edu.co/~jecamargom/)\n",
        "* **Asistentes docentes:**\n",
        "  - Leonardo Avendaño Rocha\n",
        "  - Alberto Nicolai Romero Martínez  \n",
        "\n",
        "**Universidad Nacional de Colombia** - *Facultad de Ingeniería*"
      ]
    }
  ]
}